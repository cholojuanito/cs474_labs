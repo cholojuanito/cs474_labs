{
  "nbformat": 4,
  "nbformat_minor": 0,
  "metadata": {
    "accelerator": "GPU",
    "colab": {
      "name": "DL_Lab4.ipynb",
      "provenance": [],
      "collapsed_sections": []
    },
    "kernelspec": {
      "name": "python3",
      "display_name": "Python 3"
    },
    "pycharm": {
      "stem_cell": {
        "cell_type": "raw",
        "metadata": {
          "collapsed": false
        },
        "source": []
      }
    }
  },
  "cells": [
    {
      "cell_type": "markdown",
      "metadata": {
        "id": "tpnN_XZwq_vc"
      },
      "source": [
        "<a href=\"https://colab.research.google.com/github/wingated/cs474_labs_f2019/blob/master/DL_Lab4.ipynb\" target=\"_parent\"><img src=\"https://colab.research.google.com/assets/colab-badge.svg\" alt=\"Open In Colab\"/></a>"
      ]
    },
    {
      "cell_type": "markdown",
      "metadata": {
        "id": "view-in-github"
      },
      "source": [
        "# Lab 4: Cancer Detection\n",
        "\n",
        "## Objective\n",
        "* To build a dense prediction model\n",
        "* To begin reading current papers in DNN research\n",
        "\n",
        "## Deliverable\n",
        "For this lab, you will turn in a notebook that describes your efforts at creating\n",
        "a pytorch radiologist. Your final deliverable is a notebook that has (1) deep network,\n",
        "(2) cost function, (3) method of calculating accuracy,\n",
        "(4) an image that shows the dense prediction produced by your network on the pos_test_000072.png image (index 172 in the validation dataset).\n",
        "This is an image in the test set that your network will not have seen before.\n",
        "This image, and the ground truth labeling, is shown below.\n",
        "(And is contained in the downloadable dataset below).\n",
        "\n",
        "![](http://liftothers.org/dokuwiki/lib/exe/fetch.php?w=200&tok=a8ac31&media=cs501r_f2016:pos_test_000072_output.png)\n",
        "<img src=\"http://liftothers.org/dokuwiki/lib/exe/fetch.php?media=cs501r_f2016:pos_test_000072.png\" width=\"200\">\n",
        "\n",
        "\n",
        "## Grading standards\n",
        "Your notebook will be graded on the following:\n",
        "* 40% Proper design, creation and debugging of a dense prediction network\n",
        "* 40% Proper implementation of a loss function and train/test set accuracy measure\n",
        "* 10% Tidy visualizations of loss and accuracy of your dense predictor during training\n",
        "* 10% Test image output\n",
        "\n",
        "\n",
        "## Data set\n",
        "The data is given as a set of 1024×1024 PNG images. Each input image (in \n",
        "the ```inputs``` directory) is an RGB image of a section of tissue,\n",
        "and there a file with the same name (in the ```outputs``` directory) \n",
        "that has a dense labeling of whether or not a section of tissue is cancerous\n",
        "(white pixels mean “cancerous”, while black pixels mean “not cancerous”).\n",
        "\n",
        "The data has been pre-split for you into test and training splits.\n",
        "Filenames also reflect whether or not the image has any cancer at all \n",
        "(files starting with ```pos_``` have some cancerous pixels, while files \n",
        "starting with ```neg_``` have no cancer anywhere).\n",
        "All of the data is hand-labeled, so the dataset is not very large.\n",
        "That means that overfitting is a real possibility.\n",
        "\n",
        "## Description\n",
        "For a video including some tips and tricks that can help with this lab: [https://youtu.be/Ms19kgK_D8w](https://youtu.be/Ms19kgK_D8w)\n",
        "For this lab, you will implement a virtual radiologist.\n",
        "You are given images of possibly cancerous tissue samples, \n",
        "and you must build a detector that identifies where in the tissue cancer may reside.\n",
        "\n",
        "---\n",
        "\n",
        "### Part 0\n",
        "Watch and follow video tutorial:\n",
        "\n",
        "https://youtu.be/Ms19kgK_D8w\n",
        "\n",
        "**TODO:**\n",
        "\n",
        "**DONE:**\n",
        "* Watch tutorial\n",
        "\n",
        "### Part 1\n",
        "Implement a dense predictor\n",
        "\n",
        "In previous labs and lectures, we have talked about DNNs that classify an \n",
        "entire image as a single class. Here, however, we are interested in a more nuanced classification: \n",
        "given an input image, we would like to identify each pixel that is possibly cancerous. \n",
        "That means that instead of a single output, your network should output an “image”, \n",
        "where each output pixel of your network represents the probability that a pixel is cancerous.\n",
        "\n",
        "___\n",
        "\n",
        "### Part 1a\n",
        "Implement your network topology\n",
        "\n",
        "\n",
        "Use the “Deep Convolution U-Net” from this paper: [(U-Net: Convolutional Networks for Biomedical Image Segmentation)](https://arxiv.org/pdf/1505.04597.pdf) \n",
        "\n",
        "![(Figure 1)](https://lh3.googleusercontent.com/qnHiB3B2KRxC3NjiSDtY08_DgDGTDsHcO6PP53oNRuct-p2QXCR-gyLkDveO850F2tTAhIOPC5Ha06NP9xq1JPsVAHlQ5UXA5V-9zkUrJHGhP_MNHFoRGnjBz1vn1p8P2rMWhlAb6HQ=w2400)\n",
        "\n",
        "You should use existing pytorch functions (not your own Conv2D module), such as ```nn.Conv2d``` and ```nn.CrossEntropyLoss```;\n",
        "you will also need the pytorch function ```torch.cat``` and ```nn.ConvTranspose2d```\n",
        "\n",
        "```torch.cat``` allows you to concatenate tensors.\n",
        "```nn.ConvTranspose2d``` is the opposite of ```nn.Conv2d```.\n",
        "It is used to bring an image from low res to higher res.\n",
        "[This blog](https://towardsdatascience.com/up-sampling-with-transposed-convolution-9ae4f2df52d0) should help you understand this function in detail.\n",
        "\n",
        "Note that the simplest network you could implement (with all the desired properties)\n",
        "is just a single convolution layer with two filters and no relu! \n",
        "Why is that? (of course it wouldn't work very well!)\n",
        "\n",
        "**TODO:**\n",
        "\n",
        "* Answer Question / Reflect on simplest network with the desired properties\n",
        "\n",
        "**DONE:**\n",
        "\n",
        "* Understand the U-Net architecture\n",
        "* Understand concatenation of inputs from multiple prior layers\n",
        "* Understand ConvTranspose\n",
        "\n",
        "___\n",
        "The intention of this lab is to learn how to make deep neural nets and implement loss function.\n",
        "Therefore we'll help you with the implementation of Dataset.\n",
        "This code will download the dataset for you so that you are ready to use it and focus on network implementation, losses and accuracies.\n",
        "\n",
        "My answer to question above:\n",
        "\n",
        "It is the simplest layer because it would produce the correct output dimensions but it wouldn't do much because it is linear. In order to get a good neural network we need to add some non-linearity into the mix."
      ]
    },
    {
      "cell_type": "code",
      "metadata": {
        "id": "Pam_F2XBPvfq"
      },
      "source": [
        "!pip3 install torch\n",
        "!pip3 install torchvision\n",
        "!pip3 install tqdm"
      ],
      "execution_count": null,
      "outputs": []
    },
    {
      "cell_type": "code",
      "metadata": {
        "id": "wQOefmcZVgTl",
        "pycharm": {
          "is_executing": false
        }
      },
      "source": [
        "import torch\n",
        "import torch.nn as nn\n",
        "import torch.nn.functional as F\n",
        "import torch.optim as optim\n",
        "from torch.utils.data import Dataset, DataLoader\n",
        "import numpy as np\n",
        "import matplotlib.pyplot as plt\n",
        "from torchvision import transforms, utils, datasets\n",
        "from tqdm import tqdm\n",
        "from torch.nn.parameter import Parameter\n",
        "import pdb\n",
        "import torchvision\n",
        "import os\n",
        "import gzip\n",
        "import tarfile\n",
        "import gc\n",
        "from IPython.core.ultratb import AutoFormattedTB\n",
        "__ITB__ = AutoFormattedTB(mode = 'Verbose',color_scheme='LightBg', tb_offset = 1)\n",
        "\n",
        "assert torch.cuda.is_available(), \"You need to request a GPU from Runtime > Change Runtime\""
      ],
      "execution_count": 1,
      "outputs": []
    },
    {
      "cell_type": "markdown",
      "metadata": {
        "id": "49quyvIJvTq8"
      },
      "source": [
        "WARNING: You may run into an error that says \"RuntimeError: CUDA out of memory.\"\n",
        "\n",
        "In this case, the memory required for your batch is larger than what the GPU is capable of. You can solve this problem by adjusting the image size or the batch size and then restarting the runtime. "
      ]
    },
    {
      "cell_type": "code",
      "metadata": {
        "id": "Il_53HLSWPTY"
      },
      "source": [
        "class CancerDataset(Dataset):\n",
        "  def __init__(self, root, download=True, size=512, train=True):\n",
        "    if download and not os.path.exists(os.path.join(root, 'cancer_data')):\n",
        "      datasets.utils.download_url('http://liftothers.org/cancer_data.tar.gz', root, 'cancer_data.tar.gz', None)\n",
        "      self.extract_gzip(os.path.join(root, 'cancer_data.tar.gz'))\n",
        "      self.extract_tar(os.path.join(root, 'cancer_data.tar'))\n",
        "    \n",
        "    postfix = 'train' if train else 'test'\n",
        "    root = os.path.join(root, 'cancer_data', 'cancer_data')\n",
        "    self.dataset_folder = torchvision.datasets.ImageFolder(os.path.join(root, 'inputs_' + postfix) ,transform = transforms.Compose([transforms.Resize(size),transforms.ToTensor()]))\n",
        "    self.label_folder = torchvision.datasets.ImageFolder(os.path.join(root, 'outputs_' + postfix) ,transform = transforms.Compose([transforms.Resize(size),transforms.ToTensor()]))\n",
        "\n",
        "  @staticmethod\n",
        "  def extract_gzip(gzip_path, remove_finished=False):\n",
        "    print('Extracting {}'.format(gzip_path))\n",
        "    with open(gzip_path.replace('.gz', ''), 'wb') as out_f, gzip.GzipFile(gzip_path) as zip_f:\n",
        "      out_f.write(zip_f.read())\n",
        "    if remove_finished:\n",
        "      os.unlink(gzip_path)\n",
        "  \n",
        "  @staticmethod\n",
        "  def extract_tar(tar_path):\n",
        "    print('Untarring {}'.format(tar_path))\n",
        "    z = tarfile.TarFile(tar_path)\n",
        "    z.extractall(tar_path.replace('.tar', ''))\n",
        "\n",
        "  def __getitem__(self,index):\n",
        "    img = self.dataset_folder[index]\n",
        "    label = self.label_folder[index]\n",
        "    return img[0],label[0][0]\n",
        "  \n",
        "  def __len__(self):\n",
        "    return len(self.dataset_folder)"
      ],
      "execution_count": 2,
      "outputs": []
    },
    {
      "cell_type": "markdown",
      "metadata": {
        "id": "QY4owfQwm-Ni"
      },
      "source": [
        "___\n",
        "\n",
        "### Part 1b\n",
        "Implement a cost function\n",
        "\n",
        "You should still use cross-entropy as your cost function, but you may need to think hard about how exactly to set this up – your network should output cancer/not-cancer probabilities for each pixel, which can be viewed as a two-class classification problem.\n",
        "\n",
        "**TODO:**\n",
        "\n",
        "**DONE:**\n",
        "\n",
        "* Adapt CrossEntropyLoss for 2 class pixel classification\n",
        "\n"
      ]
    },
    {
      "cell_type": "code",
      "metadata": {
        "id": "jq22IyKanxo_"
      },
      "source": [
        "# Since you will be using the output of one network in two places(convolution and maxpooling),\n",
        "# you can't use nn.Sequential.\n",
        "# Instead you will write up the network like normal variable assignment as the example shown below:\n",
        "# You are welcome (and encouraged) to use the built-in batch normalization and dropout layer.\n",
        "\n",
        "class CancerDetectionNetwork(nn.Module):\n",
        "  def __init__(self, in_channels, out_channels, filter_depth, u_depth):\n",
        "    super(CancerDetectionNetwork, self).__init__()\n",
        "    self.net_depth = u_depth\n",
        "    self.in_channels = in_channels\n",
        "    self.out_channels = out_channels\n",
        "    self.normalize_sub = 0\n",
        "    self.normalize_div = 255\n",
        "\n",
        "    self.down_convs = nn.ModuleList()\n",
        "    self.down_samples = nn.ModuleList()\n",
        "    self.up_samples = nn.ModuleList()\n",
        "    self.up_convs = nn.ModuleList()\n",
        "    \n",
        "    activation_func = nn.ReLU\n",
        "\n",
        "    # Variables to help keep track of the size of the tensor at each layer\n",
        "    size = filter_depth\n",
        "    previous_size = self.in_channels\n",
        "    current_size = size\n",
        "\n",
        "    # Create path down the U\n",
        "    for i in range(self.net_depth) :\n",
        "        self.down_convs.append(nn.Sequential(\n",
        "            nn.Conv2d(previous_size, current_size, kernel_size=3, stride=1, padding=1),\n",
        "            activation_func(),\n",
        "            nn.Conv2d(current_size, current_size, kernel_size=3, stride=1, padding=1),\n",
        "            activation_func(),\n",
        "        ))\n",
        "\n",
        "        self.down_samples.append(nn.MaxPool2d(kernel_size=2))\n",
        "        previous_size = current_size\n",
        "        current_size *= 2\n",
        "\n",
        "    # Create bottom layer\n",
        "    self.bottom = nn.Sequential(\n",
        "        nn.Conv2d(previous_size, current_size, kernel_size=3, stride=1, padding=1),\n",
        "        activation_func(),\n",
        "        nn.Conv2d(current_size, current_size, kernel_size=3, stride=1, padding=1),\n",
        "        activation_func()\n",
        "    )\n",
        "\n",
        "    # Create path up the U\n",
        "    for i in range(self.net_depth) :\n",
        "\n",
        "        next_size = current_size//2\n",
        "        self.up_samples.append(nn.Sequential(\n",
        "            nn.ConvTranspose2d(current_size, next_size, kernel_size=2, stride=2, padding=0),\n",
        "            activation_func(),\n",
        "        ))\n",
        "\n",
        "        self.up_convs.append(nn.Sequential(\n",
        "            nn.Conv2d(next_size, next_size, kernel_size=3, stride=1, padding=1),\n",
        "            activation_func(),\n",
        "            nn.Conv2d(next_size, next_size, kernel_size=3, stride=1, padding=1),\n",
        "            activation_func(),\n",
        "        ))\n",
        "        current_size = next_size\n",
        "    \n",
        "    self.final = nn.Conv2d(current_size, self.out_channels, kernel_size=1, stride=1, padding=0)\n",
        "\n",
        "  def forward(self, x):\n",
        "    x = self.normalize_input_(x)\n",
        "\n",
        "    # Go down through the u\n",
        "    activations = [] # Keep track of outputs for going up\n",
        "    for i in range(self.net_depth) :\n",
        "        x = self.down_convs[i](x)\n",
        "        activations.append(x)\n",
        "        x = self.down_samples[i](x)\n",
        "\n",
        "    x = self.bottom(x)\n",
        "\n",
        "    # Come back up\n",
        "    for i in range(self.net_depth) :\n",
        "        x = self.up_samples[i](x)\n",
        "        x = x + activations[-(i+1)]\n",
        "        x = self.up_convs[i](x)\n",
        "\n",
        "    return self.final(x)\n",
        "\n",
        "  def normalize_input_(self, x):\n",
        "      x -= self.normalize_sub\n",
        "      x /= self.normalize_div\n",
        "      return x\n"
      ],
      "execution_count": 3,
      "outputs": []
    },
    {
      "cell_type": "code",
      "metadata": {
        "id": "z5aWPjLBVW4P"
      },
      "source": [
        "# Trainer class\n",
        "class CancerSegmentationTrainer():\n",
        "    def __init__(self):\n",
        "        self.model = None\n",
        "        self.optimizer = None\n",
        "        self.loss_func = None\n",
        "        self.train_dataloader = None \n",
        "        self.val_dataloader = None\n",
        "\n",
        "        self.device = 'cuda'\n",
        "        self.epoch_count = 0\n",
        "        self.loop = None\n",
        "\n",
        "    def increment_epoch_count(self):\n",
        "        self.epoch_count += 1\n",
        "\n",
        "    def train(self, num_epochs):\n",
        "        train_losses = []\n",
        "        val_losses = []\n",
        "        train_accuracies = []\n",
        "        val_accuracies = []\n",
        "\n",
        "        for i in range(1, num_epochs+1):\n",
        "            self.loop = tqdm(total=len(self.train_dataloader), position=0, leave=False)\n",
        "            # Train\n",
        "            print(f'\\nTraining for epoch {i} of {num_epochs}')\n",
        "            train_loss, train_acc = self.train_epoch_(self.train_dataloader, training=True)\n",
        "            self.loop.close()\n",
        "\n",
        "            self.loop = tqdm(total=len(self.val_dataloader), position=0, leave=False)\n",
        "            # Validate\n",
        "            print(f\"\\nValidation for epoch {i} of {num_epochs}\")\n",
        "            val_loss, val_acc = self.train_epoch_(self.val_dataloader, training=False)\n",
        "            self.loop.close()\n",
        "            \n",
        "\n",
        "            train_losses.append(train_loss)\n",
        "            val_losses.append(val_loss)\n",
        "            train_accuracies.append(train_acc)\n",
        "            val_accuracies.append(val_acc)\n",
        "\n",
        "        return  train_losses, val_losses, train_accuracies, val_accuracies\n",
        "\n",
        "    def train_epoch_(self, data_loader, training=True):\n",
        "        if training:\n",
        "            self.model.train() \n",
        "            torch.set_grad_enabled(True)\n",
        "        else:\n",
        "            self.model.eval()\n",
        "            torch.set_grad_enabled(False)\n",
        "\n",
        "        loss_sum = 0\n",
        "        acc_sum = 0\n",
        "        for imgs, labels in data_loader:\n",
        "            imgs, labels = imgs.to(device, non_blocking=True), labels.to(device,non_blocking=True) # non_blocking is a speed up (async)\n",
        "            \n",
        "            if training:\n",
        "                self.optimizer.zero_grad() # Set gradient to zero\n",
        "\n",
        "            y_hat = self.model(imgs)\n",
        "            loss = self.loss_func(y_hat, labels.long())\n",
        "            loss_sum += loss.detach().sum().item()\n",
        "\n",
        "            # Figure out a way to do accuracy\n",
        "            probs = y_hat.argmax(1)\n",
        "            accuracy = (probs == labels).float().mean()\n",
        "            acc_sum += accuracy.detach().item()\n",
        "\n",
        "            mem_allocated = torch.cuda.memory_allocated(0) / 1e9\n",
        "\n",
        "            self.loop.set_description('loss: {:.4f}, accuracy: {:.4f}, mem: {:.2f}'.format(loss.detach().sum().item(), accuracy, mem_allocated))\n",
        "            self.loop.update(1)\n",
        "\n",
        "            if training:\n",
        "                loss.backward() # Compute gradient, for weight with respect to loss\n",
        "                self.optimizer.step() # Take step in the direction of the negative gradient\n",
        "\n",
        "        return loss_sum / len(data_loader.dataset), acc_sum / len(data_loader.dataset)\n"
      ],
      "execution_count": 4,
      "outputs": []
    },
    {
      "cell_type": "code",
      "metadata": {
        "id": "g8mgXjmWVmbb"
      },
      "source": [
        "# Visualization tools\n",
        "def tensor_as_np_img(tensor):\n",
        "    #tensor = tensor / 2 + 0.5\n",
        "    return tensor.numpy()\n",
        "\n",
        "def show_tensor_img(tensor):\n",
        "    img = tensor_as_np_img(tensor)\n",
        "    plt_img = np.transpose(img, (1, 2, 0))\n",
        "    if (plt_img.shape[2] < 2):\n",
        "        plt.imshow(plt_img.squeeze() * 255, cmap='gray', vmin=0, vmax=255)\n",
        "    else:\n",
        "        plt.imshow(plt_img)\n",
        "    plt.show()\n",
        "\n",
        "def show_loss_graph(title, train_losses, val_losses):\n",
        "    plt.plot(train_losses, label=\"Train Loss\")\n",
        "    plt.plot(val_losses, label=\"Validation Loss\")\n",
        "    plt.title(title)\n",
        "    plt.ylabel(\"Avg. Loss per epoch\")\n",
        "    plt.xlabel(\"Epochs\")\n",
        "    plt.ylim([0, max(max(train_losses), max(val_losses))])\n",
        "    plt.xlim([0, len(train_losses)])\n",
        "    plt.legend()\n",
        "    plt.show()\n",
        "\n",
        "def show_accuracy_graph(title, train_acc, val_acc):\n",
        "    plt.plot(train_acc, label=\"Train Accuracy\")\n",
        "    plt.plot(val_acc, label=\"Validation Accuracy\")\n",
        "    plt.title(title)\n",
        "    plt.ylabel(\"Avg. Accuracy per epoch (%)\")\n",
        "    plt.xlabel(\"Epochs\")\n",
        "    plt.ylim([0, max(max(train_acc), max(val_acc))])\n",
        "    plt.xlim([0, len(train_acc)])\n",
        "    plt.legend()\n",
        "    plt.show()"
      ],
      "execution_count": 5,
      "outputs": []
    },
    {
      "cell_type": "code",
      "metadata": {
        "id": "NAjagHCdGNAh"
      },
      "source": [
        "# Instantiate data sets\n",
        "train_dataset = CancerDataset('/tmp', train=True)\n",
        "val_dataset = CancerDataset('/tmp', train=False)\n",
        "\n",
        "# Instantiate your data loaders\n",
        "train_loader = DataLoader(train_dataset,\n",
        "                          shuffle=True,\n",
        "                          batch_size=4,\n",
        "                          num_workers=4,\n",
        "                          pin_memory=True,)\n",
        "\n",
        "val_loader = DataLoader(val_dataset,\n",
        "                        shuffle=True,\n",
        "                        batch_size=4,\n",
        "                        num_workers=4,\n",
        "                        pin_memory=True)\n"
      ],
      "execution_count": 11,
      "outputs": []
    },
    {
      "cell_type": "code",
      "metadata": {
        "id": "XDgREmmuXW0H"
      },
      "source": [
        "# Instantiate the model\n",
        "device = \"cuda\"\n",
        "\n",
        "model = CancerDetectionNetwork(\n",
        "    in_channels=3,\n",
        "    out_channels=2,\n",
        "    filter_depth=64,\n",
        "    u_depth=4\n",
        ").to(device)"
      ],
      "execution_count": 16,
      "outputs": []
    },
    {
      "cell_type": "code",
      "metadata": {
        "id": "7Qd3lclvYgIZ"
      },
      "source": [
        "# Instantiate loss function and optimizer\n",
        "learning_rate = 1e-4\n",
        "optimizer = torch.optim.Adam(\n",
        "    model.parameters(),\n",
        "    lr = learning_rate\n",
        ")\n",
        "loss_func = nn.CrossEntropyLoss().to(device)\n",
        "\n",
        "# Instantiate trainer\n",
        "trainer = CancerSegmentationTrainer()\n",
        "trainer.model = model\n",
        "trainer.optimizer = optimizer\n",
        "trainer.loss_func = loss_func\n",
        "trainer.train_dataloader = train_loader\n",
        "trainer.val_dataloader = val_loader"
      ],
      "execution_count": 17,
      "outputs": []
    },
    {
      "cell_type": "code",
      "metadata": {
        "id": "RkieTbwlYWPS"
      },
      "source": [
        "train_losses = [] \n",
        "val_losses = [] \n",
        "train_acc = [] \n",
        "val_acc = []\n",
        "\n",
        "def scope():\n",
        "  try:\n",
        "    gc.collect()\n",
        "    print(torch.cuda.memory_allocated(0) / 1e9)\n",
        "\n",
        "    # Train\n",
        "    num_epochs = 20\n",
        "    train_losses, val_losses, train_acc, val_acc = trainer.train(num_epochs)\n",
        "    \n",
        "  except:\n",
        "    __ITB__()\n",
        "    \n",
        "scope()\n"
      ],
      "execution_count": null,
      "outputs": []
    },
    {
      "cell_type": "code",
      "metadata": {
        "id": "CRo-ODqIrjh-",
        "outputId": "e6fbdb58-726c-43a5-85cd-155901a788fc",
        "colab": {
          "base_uri": "https://localhost:8080/",
          "height": 1000
        }
      },
      "source": [
        "num_epochs = 20\n",
        "train_losses, val_losses, train_acc, val_acc = trainer.train(num_epochs)"
      ],
      "execution_count": 20,
      "outputs": [
        {
          "output_type": "stream",
          "text": [
            "\r  0%|          | 0/336 [00:00<?, ?it/s]"
          ],
          "name": "stderr"
        },
        {
          "output_type": "stream",
          "text": [
            "\n",
            "Training for epoch 1 of 20\n"
          ],
          "name": "stdout"
        },
        {
          "output_type": "stream",
          "text": [
            "  0%|          | 0/44 [00:00<?, ?it/s]"
          ],
          "name": "stderr"
        },
        {
          "output_type": "stream",
          "text": [
            "\n",
            "Validation for epoch 1 of 20\n"
          ],
          "name": "stdout"
        },
        {
          "output_type": "stream",
          "text": [
            "  0%|          | 0/336 [00:00<?, ?it/s]"
          ],
          "name": "stderr"
        },
        {
          "output_type": "stream",
          "text": [
            "\n",
            "Training for epoch 2 of 20\n"
          ],
          "name": "stdout"
        },
        {
          "output_type": "stream",
          "text": [
            "  0%|          | 0/44 [00:00<?, ?it/s]"
          ],
          "name": "stderr"
        },
        {
          "output_type": "stream",
          "text": [
            "\n",
            "Validation for epoch 2 of 20\n"
          ],
          "name": "stdout"
        },
        {
          "output_type": "stream",
          "text": [
            "  0%|          | 0/336 [00:00<?, ?it/s]"
          ],
          "name": "stderr"
        },
        {
          "output_type": "stream",
          "text": [
            "\n",
            "Training for epoch 3 of 20\n"
          ],
          "name": "stdout"
        },
        {
          "output_type": "stream",
          "text": [
            "  0%|          | 0/44 [00:00<?, ?it/s]"
          ],
          "name": "stderr"
        },
        {
          "output_type": "stream",
          "text": [
            "\n",
            "Validation for epoch 3 of 20\n"
          ],
          "name": "stdout"
        },
        {
          "output_type": "stream",
          "text": [
            "  0%|          | 0/336 [00:00<?, ?it/s]"
          ],
          "name": "stderr"
        },
        {
          "output_type": "stream",
          "text": [
            "\n",
            "Training for epoch 4 of 20\n"
          ],
          "name": "stdout"
        },
        {
          "output_type": "stream",
          "text": [
            "  0%|          | 0/44 [00:00<?, ?it/s]"
          ],
          "name": "stderr"
        },
        {
          "output_type": "stream",
          "text": [
            "\n",
            "Validation for epoch 4 of 20\n"
          ],
          "name": "stdout"
        },
        {
          "output_type": "stream",
          "text": [
            "  0%|          | 0/336 [00:00<?, ?it/s]"
          ],
          "name": "stderr"
        },
        {
          "output_type": "stream",
          "text": [
            "\n",
            "Training for epoch 5 of 20\n"
          ],
          "name": "stdout"
        },
        {
          "output_type": "stream",
          "text": [
            "  0%|          | 0/44 [00:00<?, ?it/s]"
          ],
          "name": "stderr"
        },
        {
          "output_type": "stream",
          "text": [
            "\n",
            "Validation for epoch 5 of 20\n"
          ],
          "name": "stdout"
        },
        {
          "output_type": "stream",
          "text": [
            "  0%|          | 0/336 [00:00<?, ?it/s]"
          ],
          "name": "stderr"
        },
        {
          "output_type": "stream",
          "text": [
            "\n",
            "Training for epoch 6 of 20\n"
          ],
          "name": "stdout"
        },
        {
          "output_type": "stream",
          "text": [
            "  0%|          | 0/44 [00:00<?, ?it/s]"
          ],
          "name": "stderr"
        },
        {
          "output_type": "stream",
          "text": [
            "\n",
            "Validation for epoch 6 of 20\n"
          ],
          "name": "stdout"
        },
        {
          "output_type": "stream",
          "text": [
            "  0%|          | 0/336 [00:00<?, ?it/s]"
          ],
          "name": "stderr"
        },
        {
          "output_type": "stream",
          "text": [
            "\n",
            "Training for epoch 7 of 20\n"
          ],
          "name": "stdout"
        },
        {
          "output_type": "stream",
          "text": [
            "  0%|          | 0/44 [00:00<?, ?it/s]"
          ],
          "name": "stderr"
        },
        {
          "output_type": "stream",
          "text": [
            "\n",
            "Validation for epoch 7 of 20\n"
          ],
          "name": "stdout"
        },
        {
          "output_type": "stream",
          "text": [
            "  0%|          | 0/336 [00:00<?, ?it/s]"
          ],
          "name": "stderr"
        },
        {
          "output_type": "stream",
          "text": [
            "\n",
            "Training for epoch 8 of 20\n"
          ],
          "name": "stdout"
        },
        {
          "output_type": "stream",
          "text": [
            "  0%|          | 0/44 [00:00<?, ?it/s]"
          ],
          "name": "stderr"
        },
        {
          "output_type": "stream",
          "text": [
            "\n",
            "Validation for epoch 8 of 20\n"
          ],
          "name": "stdout"
        },
        {
          "output_type": "stream",
          "text": [
            "  0%|          | 0/336 [00:00<?, ?it/s]"
          ],
          "name": "stderr"
        },
        {
          "output_type": "stream",
          "text": [
            "\n",
            "Training for epoch 9 of 20\n"
          ],
          "name": "stdout"
        },
        {
          "output_type": "stream",
          "text": [
            "  0%|          | 0/44 [00:00<?, ?it/s]"
          ],
          "name": "stderr"
        },
        {
          "output_type": "stream",
          "text": [
            "\n",
            "Validation for epoch 9 of 20\n"
          ],
          "name": "stdout"
        },
        {
          "output_type": "stream",
          "text": [
            "  0%|          | 0/336 [00:00<?, ?it/s]"
          ],
          "name": "stderr"
        },
        {
          "output_type": "stream",
          "text": [
            "\n",
            "Training for epoch 10 of 20\n"
          ],
          "name": "stdout"
        },
        {
          "output_type": "stream",
          "text": [
            "  0%|          | 0/44 [00:00<?, ?it/s]"
          ],
          "name": "stderr"
        },
        {
          "output_type": "stream",
          "text": [
            "\n",
            "Validation for epoch 10 of 20\n"
          ],
          "name": "stdout"
        },
        {
          "output_type": "stream",
          "text": [
            "  0%|          | 0/336 [00:00<?, ?it/s]"
          ],
          "name": "stderr"
        },
        {
          "output_type": "stream",
          "text": [
            "\n",
            "Training for epoch 11 of 20\n"
          ],
          "name": "stdout"
        },
        {
          "output_type": "stream",
          "text": [
            "  0%|          | 0/44 [00:00<?, ?it/s]"
          ],
          "name": "stderr"
        },
        {
          "output_type": "stream",
          "text": [
            "\n",
            "Validation for epoch 11 of 20\n"
          ],
          "name": "stdout"
        },
        {
          "output_type": "stream",
          "text": [
            "  0%|          | 0/336 [00:00<?, ?it/s]"
          ],
          "name": "stderr"
        },
        {
          "output_type": "stream",
          "text": [
            "\n",
            "Training for epoch 12 of 20\n"
          ],
          "name": "stdout"
        },
        {
          "output_type": "stream",
          "text": [
            "  0%|          | 0/44 [00:00<?, ?it/s]"
          ],
          "name": "stderr"
        },
        {
          "output_type": "stream",
          "text": [
            "\n",
            "Validation for epoch 12 of 20\n"
          ],
          "name": "stdout"
        },
        {
          "output_type": "stream",
          "text": [
            "  0%|          | 0/336 [00:00<?, ?it/s]"
          ],
          "name": "stderr"
        },
        {
          "output_type": "stream",
          "text": [
            "\n",
            "Training for epoch 13 of 20\n"
          ],
          "name": "stdout"
        },
        {
          "output_type": "stream",
          "text": [
            "  0%|          | 0/44 [00:00<?, ?it/s]"
          ],
          "name": "stderr"
        },
        {
          "output_type": "stream",
          "text": [
            "\n",
            "Validation for epoch 13 of 20\n"
          ],
          "name": "stdout"
        },
        {
          "output_type": "stream",
          "text": [
            "  0%|          | 0/336 [00:00<?, ?it/s]"
          ],
          "name": "stderr"
        },
        {
          "output_type": "stream",
          "text": [
            "\n",
            "Training for epoch 14 of 20\n"
          ],
          "name": "stdout"
        },
        {
          "output_type": "stream",
          "text": [
            "  0%|          | 0/44 [00:00<?, ?it/s]"
          ],
          "name": "stderr"
        },
        {
          "output_type": "stream",
          "text": [
            "\n",
            "Validation for epoch 14 of 20\n"
          ],
          "name": "stdout"
        },
        {
          "output_type": "stream",
          "text": [
            "  0%|          | 0/336 [00:00<?, ?it/s]"
          ],
          "name": "stderr"
        },
        {
          "output_type": "stream",
          "text": [
            "\n",
            "Training for epoch 15 of 20\n"
          ],
          "name": "stdout"
        },
        {
          "output_type": "stream",
          "text": [
            "  0%|          | 0/44 [00:00<?, ?it/s]"
          ],
          "name": "stderr"
        },
        {
          "output_type": "stream",
          "text": [
            "\n",
            "Validation for epoch 15 of 20\n"
          ],
          "name": "stdout"
        },
        {
          "output_type": "stream",
          "text": [
            "  0%|          | 0/336 [00:00<?, ?it/s]"
          ],
          "name": "stderr"
        },
        {
          "output_type": "stream",
          "text": [
            "\n",
            "Training for epoch 16 of 20\n"
          ],
          "name": "stdout"
        },
        {
          "output_type": "stream",
          "text": [
            "  0%|          | 0/44 [00:00<?, ?it/s]"
          ],
          "name": "stderr"
        },
        {
          "output_type": "stream",
          "text": [
            "\n",
            "Validation for epoch 16 of 20\n"
          ],
          "name": "stdout"
        },
        {
          "output_type": "stream",
          "text": [
            "  0%|          | 0/336 [00:00<?, ?it/s]"
          ],
          "name": "stderr"
        },
        {
          "output_type": "stream",
          "text": [
            "\n",
            "Training for epoch 17 of 20\n"
          ],
          "name": "stdout"
        },
        {
          "output_type": "stream",
          "text": [
            "  0%|          | 0/44 [00:00<?, ?it/s]"
          ],
          "name": "stderr"
        },
        {
          "output_type": "stream",
          "text": [
            "\n",
            "Validation for epoch 17 of 20\n"
          ],
          "name": "stdout"
        },
        {
          "output_type": "stream",
          "text": [
            "  0%|          | 0/336 [00:00<?, ?it/s]"
          ],
          "name": "stderr"
        },
        {
          "output_type": "stream",
          "text": [
            "\n",
            "Training for epoch 18 of 20\n"
          ],
          "name": "stdout"
        },
        {
          "output_type": "stream",
          "text": [
            "  0%|          | 0/44 [00:00<?, ?it/s]"
          ],
          "name": "stderr"
        },
        {
          "output_type": "stream",
          "text": [
            "\n",
            "Validation for epoch 18 of 20\n"
          ],
          "name": "stdout"
        },
        {
          "output_type": "stream",
          "text": [
            "  0%|          | 0/336 [00:00<?, ?it/s]"
          ],
          "name": "stderr"
        },
        {
          "output_type": "stream",
          "text": [
            "\n",
            "Training for epoch 19 of 20\n"
          ],
          "name": "stdout"
        },
        {
          "output_type": "stream",
          "text": [
            "  0%|          | 0/44 [00:00<?, ?it/s]"
          ],
          "name": "stderr"
        },
        {
          "output_type": "stream",
          "text": [
            "\n",
            "Validation for epoch 19 of 20\n"
          ],
          "name": "stdout"
        },
        {
          "output_type": "stream",
          "text": [
            "  0%|          | 0/336 [00:00<?, ?it/s]"
          ],
          "name": "stderr"
        },
        {
          "output_type": "stream",
          "text": [
            "\n",
            "Training for epoch 20 of 20\n"
          ],
          "name": "stdout"
        },
        {
          "output_type": "stream",
          "text": [
            "  0%|          | 0/44 [00:00<?, ?it/s]"
          ],
          "name": "stderr"
        },
        {
          "output_type": "stream",
          "text": [
            "\n",
            "Validation for epoch 20 of 20\n"
          ],
          "name": "stdout"
        },
        {
          "output_type": "stream",
          "text": [
            ""
          ],
          "name": "stderr"
        }
      ]
    },
    {
      "cell_type": "markdown",
      "metadata": {
        "id": "CZ062Jv1jIIu"
      },
      "source": [
        "\n",
        "___\n",
        "\n",
        "### Part 2\n",
        "\n",
        "Plot performance over time\n",
        "\n",
        "Please generate two plots:\n",
        "\n",
        " One that shows loss on the training and validation set as a function of training time. \n",
        "\n",
        " One that shows accuracy on the training and validation set as a function of training time. \n",
        "\n",
        " Make sure your axes are labeled!\n",
        "\n",
        "**TODO:**\n",
        "\n",
        "* Plot training/validation loss as function of training time (not epochs)\n",
        "* Plot training/validation accuracy as function of training time (not epochs)\n",
        "\n",
        "**DONE:**\n"
      ]
    },
    {
      "cell_type": "code",
      "metadata": {
        "id": "mTg1jyIsYVZN",
        "outputId": "b1056846-5ed3-4e8c-89dc-ff54b3c8a1e8",
        "colab": {
          "base_uri": "https://localhost:8080/",
          "height": 573
        }
      },
      "source": [
        "show_loss_graph(\"Loss graph\", train_losses, val_losses)\n",
        "\n",
        "show_accuracy_graph(\"Accuracy graph\", train_acc, val_acc)\n"
      ],
      "execution_count": 21,
      "outputs": [
        {
          "output_type": "display_data",
          "data": {
            "image/png": "[encoded data removed]",
            "text/plain": [
              "<Figure size 432x288 with 1 Axes>"
            ]
          },
          "metadata": {
            "tags": [],
            "needs_background": "light"
          }
        },
        {
          "output_type": "display_data",
          "data": {
            "image/png": "[encoded data removed]",
            "text/plain": [
              "<Figure size 432x288 with 1 Axes>"
            ]
          },
          "metadata": {
            "tags": [],
            "needs_background": "light"
          }
        }
      ]
    },
    {
      "cell_type": "markdown",
      "metadata": {
        "id": "S4s92S2_jQOG"
      },
      "source": [
        "___\n",
        "\n",
        "### Part 3\n",
        "\n",
        "Generate a prediction on the pos_test_000072.png image\n",
        "\n",
        "Calculate the output of your trained network on the pos_test_000072.png image,\n",
        "then make a hard decision (cancerous/not-cancerous) for each pixel.\n",
        "The resulting image should be black-and-white, where white pixels represent things\n",
        "you think are probably cancerous.\n",
        "\n",
        "**TODO:**\n",
        "\n",
        "**DONE:**\n",
        "\n",
        "**NOTE:**\n",
        "\n",
        "Guessing that the pixel is not cancerous every single time will give you an accuracy of ~ 85%.\n",
        "Your trained network should be able to do better than that (but you will not be graded on accuracy).\n",
        "This is the result I got after 1 hour or training.\n",
        "\n",
        "![](http://liftothers.org/dokuwiki/lib/exe/fetch.php?w=400&tok=d23e0b&media=cs501r_f2016:training_accuracy.png)\n",
        "![](http://liftothers.org/dokuwiki/lib/exe/fetch.php?w=400&tok=bb8e3c&media=cs501r_f2016:training_loss.png)"
      ]
    },
    {
      "cell_type": "code",
      "metadata": {
        "id": "XXfG3wClh8an",
        "pycharm": {
          "is_executing": false
        },
        "outputId": "01568d80-d122-4f0c-ca22-89313b037cc1",
        "colab": {
          "base_uri": "https://localhost:8080/",
          "height": 824
        }
      },
      "source": [
        "# Code for testing prediction on an image\n",
        "test_img, test_label = val_dataset[172]\n",
        "print('Base Image')\n",
        "show_tensor_img(test_img)\n",
        "\n",
        "print('Diagnosis - Truth')\n",
        "show_tensor_img(test_label.unsqueeze(0))\n",
        "\n",
        "model.eval()\n",
        "\n",
        "img_batch = torch.unsqueeze(test_img, 0)\n",
        "img_batch = img_batch.to(device)\n",
        "prediction = model(img_batch)\n",
        "prediction = prediction.argmax(1).to('cpu')\n",
        "\n",
        "print('Diagnosis - Prediction')\n",
        "show_tensor_img(prediction)"
      ],
      "execution_count": 29,
      "outputs": [
        {
          "output_type": "stream",
          "text": [
            "Base Image\n"
          ],
          "name": "stdout"
        },
        {
          "output_type": "display_data",
          "data": {
            "image/png": "[encoded data removed]",
            "text/plain": [
              "<Figure size 432x288 with 1 Axes>"
            ]
          },
          "metadata": {
            "tags": [],
            "needs_background": "light"
          }
        },
        {
          "output_type": "stream",
          "text": [
            "Diagnosis - Truth\n"
          ],
          "name": "stdout"
        },
        {
          "output_type": "display_data",
          "data": {
            "image/png": "[encoded data removed]",
            "text/plain": [
              "<Figure size 432x288 with 1 Axes>"
            ]
          },
          "metadata": {
            "tags": [],
            "needs_background": "light"
          }
        },
        {
          "output_type": "stream",
          "text": [
            "Diagnosis - Prediction\n"
          ],
          "name": "stdout"
        },
        {
          "output_type": "display_data",
          "data": {
            "image/png": "[encoded data removed]",
            "text/plain": [
              "<Figure size 432x288 with 1 Axes>"
            ]
          },
          "metadata": {
            "tags": [],
            "needs_background": "light"
          }
        }
      ]
    },
    {
      "cell_type": "code",
      "metadata": {
        "id": "qimemYFRzwFD"
      },
      "source": [
        ""
      ],
      "execution_count": null,
      "outputs": []
    }
  ]
}