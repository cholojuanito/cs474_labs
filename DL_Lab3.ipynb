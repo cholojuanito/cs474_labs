{
  "nbformat": 4,
  "nbformat_minor": 0,
  "metadata": {
    "accelerator": "GPU",
    "colab": {
      "name": "DL_Lab3.ipynb",
      "provenance": [],
      "collapsed_sections": []
    },
    "kernelspec": {
      "display_name": "Python 3",
      "language": "python",
      "name": "python3"
    },
    "language_info": {
      "codemirror_mode": {
        "name": "ipython",
        "version": 3
      },
      "file_extension": ".py",
      "mimetype": "text/x-python",
      "name": "python",
      "nbconvert_exporter": "python",
      "pygments_lexer": "ipython3",
      "version": "3.6.3"
    },
    "pycharm": {
      "stem_cell": {
        "cell_type": "raw",
        "metadata": {
          "collapsed": false
        },
        "source": []
      }
    }
  },
  "cells": [
    {
      "cell_type": "markdown",
      "metadata": {
        "id": "4MoBVggFKuE-",
        "colab_type": "text"
      },
      "source": [
        "<a href=\"https://colab.research.google.com/github/wingated/cs474_labs_f2019/blob/master/DL_Lab3.ipynb\" target=\"_parent\"><img src=\"https://colab.research.google.com/assets/colab-badge.svg\" alt=\"Open In Colab\"/></a>"
      ]
    },
    {
      "cell_type": "markdown",
      "metadata": {
        "colab_type": "text",
        "id": "view-in-github"
      },
      "source": [
        "# Lab 3: Intro to CNNs and DNNs\n",
        "\n",
        "## Objectives\n",
        "\n",
        "* Build and train a deep conv net\n",
        "* Explore and implement various initialization techniques\n",
        "* Implement a parameterized module in Pytorch\n",
        "* Use a principled loss function\n",
        "\n",
        "## Video Tutorial\n",
        "[https://youtu.be/3TAuTcx-VCc](https://youtu.be/3TAuTcx-VCc)\n",
        "\n",
        "## Deliverable\n",
        "For this lab, you will submit an ipython notebook via learningsuite.\n",
        "This is where you build your first deep neural network!\n",
        "\n",
        "For this lab, we'll be combining several different concepts that we've covered during class,\n",
        "including new layer types, initialization strategies, and an understanding of convolutions.\n",
        "\n",
        "## Grading Standards:\n",
        "* 30% Part 0: Successfully followed lab video and typed in code\n",
        "* 20% Part 1: Re-implement Conv2D and CrossEntropy loss function\n",
        "* 20% Part 2: Implement different initialization strategies\n",
        "* 10% Part 3: Print parameters, plot train/test accuracy\n",
        "* 10% Part 4: Convolution parameters quiz\n",
        "* 10% Tidy and legible figures, including labeled axes where appropriate\n",
        "___\n",
        "\n",
        "### Part 0\n",
        "Watch and follow video tutorial:\n",
        "\n",
        "[https://youtu.be/3TAuTcx-VCc](https://youtu.be/3TAuTcx-VCc)\n",
        "\n",
        "**TODO:**\n",
        "\n",
        "**DONE:**\n",
        "\n",
        "* Watch tutorial"
      ]
    },
    {
      "cell_type": "code",
      "metadata": {
        "pycharm": {
          "name": "#%%\n"
        },
        "id": "Czf-xWt4KuFD",
        "colab_type": "code",
        "colab": {}
      },
      "source": [
        "!pip3 install torch\n",
        "!pip3 install torchvision\n",
        "!pip3 install tqdm"
      ],
      "execution_count": null,
      "outputs": []
    },
    {
      "cell_type": "code",
      "metadata": {
        "colab_type": "code",
        "id": "wQOefmcZVgTl",
        "colab": {}
      },
      "source": [
        "import torch\n",
        "import torch.nn as nn\n",
        "import torch.nn.functional as F\n",
        "import torch.optim as optim\n",
        "from torch.utils.data import Dataset, DataLoader\n",
        "import numpy as np\n",
        "import matplotlib.pyplot as plt\n",
        "from torchvision import transforms, utils, datasets\n",
        "from tqdm import tqdm\n",
        "from torch.nn.parameter import Parameter\n",
        "import pdb\n",
        "import math\n",
        "\n",
        "assert torch.cuda.is_available(), \"You need to request a GPU from Runtime > Change Runtime\""
      ],
      "execution_count": 1,
      "outputs": []
    },
    {
      "cell_type": "markdown",
      "metadata": {
        "colab_type": "text",
        "id": "QY4owfQwm-Ni"
      },
      "source": [
        "___\n",
        "\n",
        "### Part 1\n",
        "Re-implement a Conv2D module with parameters and a CrossEntropy loss function.\n",
        "\n",
        "**TODO:**\n",
        "\n",
        "**DONE:**\n",
        "* CrossEntropyLoss \n",
        "* Conv2D\n",
        "\n",
        "___\n",
        "\n",
        "### Part 2\n",
        "Implement a few initialization strategies which can include Xe initialization\n",
        "(sometimes called Xavier), Orthogonal initialization, and uniform random.\n",
        "You can specify which strategy you want to use with a parameter. \n",
        "\n",
        "\n",
        "\n",
        "Helpful links include:\n",
        "*  [Orthogonal Initialization](https://hjweide.github.io/orthogonal-initialization-in-convolutional-layers) (or the original paper: http://arxiv.org/abs/1312.6120)\n",
        "*  http://andyljones.tumblr.com/post/110998971763/an-explanation-of-xavier-initialization\n",
        "\n",
        "**TODO:**\n",
        "\n",
        "**DONE:**\n",
        "\n",
        "* Parameterize custom Conv2D for different initilization strategies\n",
        "* Xe\n",
        "* Orthogonal\n",
        "* Uniform\n",
        "\n"
      ]
    },
    {
      "cell_type": "code",
      "metadata": {
        "colab_type": "code",
        "id": "RkieTbwlYWPS",
        "colab": {}
      },
      "source": [
        "class CrossEntropyLoss(nn.Module):\n",
        "    def __init__(self, weight = None, size_average=None, ignore_index = -100, \n",
        "                 reduce = None, reduction = 'mean'):\n",
        "        super(CrossEntropyLoss, self).__init__()\n",
        "        self.weight = weight\n",
        "        self.ignore_index = ignore_index\n",
        "    \n",
        "    def forward(self, input, target):\n",
        "        log_soft = F.log_softmax(input, 1)\n",
        "        return F.nll_loss(log_soft, target, weight=self.weight, ignore_index=self.ignore_index)\n",
        "\n",
        "\n",
        "class Conv2d(nn.Module):\n",
        "    def __init__(self, in_channels, out_channels, kernel_size, weight_init='xavier', stride=1, padding=0, dilation=1, groups=1, bias=True, padding_mode='zeros'):\n",
        "        self.__dict__.update(locals()) # Make all the above params part of the class\n",
        "        super(Conv2d, self).__init__()\n",
        "\n",
        "        # weight should be size: (out, in, k, k) where k is kernel size\n",
        "        self.weight = Parameter(torch.Tensor(self.out_channels, \n",
        "                                    self.in_channels, \n",
        "                                    *self.kernel_size))\n",
        "        # bias should be size: (out)\n",
        "        self.bias = Parameter(torch.Tensor(self.out_channels))\n",
        "\n",
        "        # Initialize the weights and bias\n",
        "        if self.weight_init == 'xavier':\n",
        "            num_in = self.weight.data.size(1)\n",
        "            num_out = self.weight.data.size(0)\n",
        "            std_dev = math.sqrt(2.0 / float(num_in + num_out))\n",
        "            mean = 0.0\n",
        "            self.weight.data.normal_(mean, std_dev)\n",
        "\n",
        "        elif self.weight_init == 'orthogonal':\n",
        "            expected_shape = (self.out_channels,\n",
        "                              self.in_channels,\n",
        "                              *self.kernel_size)\n",
        "            flat_shape = (self.out_channels,\n",
        "                          self.in_channels * self.kernel_size[0] * self.kernel_size[1])\n",
        "            x = np.random.normal(0.0, 1.0, flat_shape)\n",
        "            # Use singular value decomposition to get two orthogonal matrices\n",
        "            U, _, V = np.linalg.svd(x, full_matrices=False)\n",
        "            # Pick the matrix with the correct shape\n",
        "            weights = U if U.shape == flat_shape else V\n",
        "            weights = weights.reshape(expected_shape)\n",
        "            self.weight.data = torch.from_numpy(weights).float()\n",
        "\n",
        "        elif self.weight_init == 'uniform':\n",
        "            self.weight.data.uniform_(-1, 1)\n",
        "\n",
        "        # Init bias to numbers between [0 and 1)\n",
        "        self.bias.data = torch.rand(*self.bias.data.size())\n",
        "\n",
        "    def forward(self, x):\n",
        "        return F.conv2d(x, self.weight, self.bias, self.stride, self.padding, self.dilation, self.groups)\n",
        "\n"
      ],
      "execution_count": 63,
      "outputs": []
    },
    {
      "cell_type": "code",
      "metadata": {
        "colab_type": "code",
        "id": "d4C-_v9Hm7YE",
        "colab": {}
      },
      "source": [
        "class ConvNetwork(nn.Module):\n",
        "    def __init__(self, dataset, weight_init_method='xavier'):\n",
        "        super(ConvNetwork, self).__init__()\n",
        "        x, y = dataset[0]\n",
        "        c, h, w = x.size() # channel, height, width of image\n",
        "        out = 10\n",
        "        default_kernel_size = (3,3)\n",
        "\n",
        "        self.net = nn.Sequential(\n",
        "            Conv2d(c, out, kernel_size=default_kernel_size, padding=(1,1), weight_init=weight_init_method),\n",
        "            nn.ReLU(),\n",
        "            Conv2d(out, out, kernel_size=(h, w), padding=(0,0), weight_init=weight_init_method),\n",
        "        )\n",
        "\n",
        "    def forward(self, x):\n",
        "        # self.net returns -> (n, out, 1, 1), squeeze removes the last two dimensions\n",
        "        return self.net(x).squeeze(2).squeeze(2)\n",
        "\n",
        "\n",
        "# Use the dataset class you created in lab2\n",
        "class FashionMNISTProcessedDataset(Dataset):\n",
        "    def __init__(self, root, train=True):\n",
        "        self.data = datasets.FashionMNIST(root, \n",
        "                                          train=train, \n",
        "                                          transform=transforms.ToTensor(),\n",
        "                                          download=True)\n",
        "\n",
        "    def __getitem__(self, idx):\n",
        "        x, y = self.data[idx]\n",
        "        return x, y\n",
        "\n",
        "    def __len__(self):\n",
        "        return len(self.data)\n"
      ],
      "execution_count": 3,
      "outputs": []
    },
    {
      "cell_type": "code",
      "metadata": {
        "colab_type": "code",
        "id": "mTg1jyIsYVZN",
        "pycharm": {
          "is_executing": false
        },
        "colab": {}
      },
      "source": [
        "# Training loop\n",
        "def train(model, loss_func, optimizer, train_loader, val_loader, num_epochs, check_val_step=500):\n",
        "    train_losses = []\n",
        "    val_losses = []\n",
        "    train_accuracies = []\n",
        "    val_accuracies = []\n",
        "\n",
        "    for epoch in range(num_epochs):\n",
        "        loop = tqdm(total=len(train_loader), position=0, leave=False)\n",
        "\n",
        "        # Train through all the batches\n",
        "        train_loss_list = []\n",
        "        train_acc_list = []\n",
        "        for batch, (x, y_truth) in enumerate(train_loader):\n",
        "            x, y_truth = x.cuda(non_blocking=True), y_truth.cuda(non_blocking=True) # non_blocking is a speed up (async)\n",
        "            \n",
        "            optimizer.zero_grad() # Set gradient to zero\n",
        "\n",
        "            y_hat = model(x)\n",
        "            loss = loss_func(y_hat, y_truth)\n",
        "            train_loss_list.append(loss.item())\n",
        "\n",
        "            probs = y_hat.argmax(1)\n",
        "            accuracy = (probs == y_truth).float().mean()\n",
        "            train_acc_list.append(accuracy.item())\n",
        "\n",
        "            loop.set_description('epoch {} -> loss: {:.4f}, accuracy: {:.4f}'.format(epoch, loss.item(), accuracy.item()))\n",
        "            loop.update(1)\n",
        "\n",
        "            loss.backward() # Compute gradient, for weight with respect to loss\n",
        "            optimizer.step() # Take step in the direction of the negative gradient\n",
        "        loop.close()\n",
        "\n",
        "        # Check model accuracy and loss on validation set\n",
        "        val_loss_list = []\n",
        "        val_acc_list = []\n",
        "        for val_x, val_y in val_loader:\n",
        "            val_y_hat, val_y_truth = model(val_x.cuda()), val_y.cuda()\n",
        "            val_loss_list.append(loss_func(val_y_hat, val_y_truth).item())\n",
        "\n",
        "            val_probs = val_y_hat.argmax(1)\n",
        "            val_accuracy = (val_probs == val_y_truth).float().mean()\n",
        "            val_acc_list.append(val_accuracy.item())\n",
        "\n",
        "\n",
        "        train_losses.append(np.mean(train_loss_list))\n",
        "        val_losses.append(np.mean(val_loss_list))\n",
        "        train_accuracies.append(np.mean(train_acc_list) * 100)\n",
        "        val_accuracies.append(np.mean(val_acc_list) * 100)\n",
        "\n",
        "    return  train_losses, val_losses, train_accuracies, val_accuracies\n"
      ],
      "execution_count": 50,
      "outputs": []
    },
    {
      "cell_type": "code",
      "metadata": {
        "id": "wQ42-y9zw85D",
        "colab_type": "code",
        "colab": {}
      },
      "source": [
        "def tensor_as_np_img(tensor):\n",
        "    tensor = tensor / 2 + 0.5\n",
        "    return tensor.numpy()\n",
        "\n",
        "def show_tensor_img(tensor):\n",
        "    img = tensor_as_np_img(tensor)\n",
        "    plt_img = np.transpose(img, (1, 2, 0))\n",
        "    if (plt_img.shape[2] < 2):\n",
        "        plt.imshow(plt_img.squeeze() * 255, cmap='gray', vmin=0, vmax=255)\n",
        "    else:\n",
        "        plt.imshow(plt_img)\n",
        "    plt.show()\n",
        "\n",
        "def show_loss_graph(title, train_losses, val_losses):\n",
        "    plt.plot(train_losses, label=\"Train Loss\")\n",
        "    plt.plot(val_losses, label=\"Validation Loss\")\n",
        "    plt.title(title)\n",
        "    plt.ylabel(\"Avg. Loss per epoch\")\n",
        "    plt.xlabel(\"Epochs\")\n",
        "    plt.ylim([0, max(max(train_losses), max(val_losses))])\n",
        "    plt.xlim([0, len(train_losses)])\n",
        "    plt.legend()\n",
        "    plt.show()\n",
        "\n",
        "def show_accuracy_graph(title, train_acc, val_acc):\n",
        "    plt.plot(train_acc, label=\"Train Accuracy\")\n",
        "    plt.plot(val_acc, label=\"Validation Accuracy\")\n",
        "    plt.title(title)\n",
        "    plt.ylabel(\"Avg. Accuracy per epoch (%)\")\n",
        "    plt.xlabel(\"Epochs\")\n",
        "    plt.ylim([0, 100])\n",
        "    plt.xlim([0, len(train_acc)])\n",
        "    plt.legend()\n",
        "    plt.show()"
      ],
      "execution_count": 82,
      "outputs": []
    },
    {
      "cell_type": "code",
      "metadata": {
        "id": "61xXVwfRu0fU",
        "colab_type": "code",
        "colab": {}
      },
      "source": [
        "# Instantiate data sets\n",
        "train_dataset = FashionMNISTProcessedDataset('/tmp/fashionmnist', train=True)\n",
        "val_dataset = FashionMNISTProcessedDataset('/tmp/fashionmnist', train=False)\n",
        "\n",
        "# Instantiate your data loaders\n",
        "train_loader = DataLoader(train_dataset, # You can change the way batches are shuffled here\n",
        "                          batch_size=42, # Multiple threads\n",
        "                          pin_memory=True) # Speed improvement param, use same block of GPU memory\n",
        "val_loader = DataLoader(val_dataset,\n",
        "                        batch_size=42,\n",
        "                        pin_memory=True)"
      ],
      "execution_count": 44,
      "outputs": []
    },
    {
      "cell_type": "code",
      "metadata": {
        "id": "0ZNzKPwf42jF",
        "colab_type": "code",
        "colab": {}
      },
      "source": [
        "xav_model = ConvNetwork(train_dataset, weight_init_method='xavier')\n",
        "xav_model = xav_model.cuda() # Move to GPU memory\n",
        "\n",
        "orth_model = ConvNetwork(train_dataset, weight_init_method='orthogonal')\n",
        "orth_model = orth_model.cuda()\n",
        "\n",
        "uni_model = ConvNetwork(train_dataset, weight_init_method='uniform')\n",
        "uni_model = uni_model.cuda()"
      ],
      "execution_count": 55,
      "outputs": []
    },
    {
      "cell_type": "code",
      "metadata": {
        "id": "3kRGQs3Tu4V9",
        "colab_type": "code",
        "colab": {}
      },
      "source": [
        "# Instantiate loss and optimizer functions\n",
        "xav_loss_func = CrossEntropyLoss()\n",
        "orth_loss_func = CrossEntropyLoss()\n",
        "uni_loss_func = CrossEntropyLoss()\n",
        "xav_optimizer = optim.Adam(xav_model.parameters(), lr=1e-4)\n",
        "orth_optimizer = optim.Adam(orth_model.parameters(), lr=1e-4)\n",
        "uni_optimizer = optim.Adam(uni_model.parameters(), lr=1e-4)\n",
        "\n",
        "num_epochs = 20"
      ],
      "execution_count": 87,
      "outputs": []
    },
    {
      "cell_type": "code",
      "metadata": {
        "id": "32FSMOdC5v43",
        "colab_type": "code",
        "colab": {
          "base_uri": "https://localhost:8080/",
          "height": 17
        },
        "outputId": "081f3126-fee0-4ee4-e0b2-ea2d06e8fe8b"
      },
      "source": [
        "# Try a few different networks and initialization strategies\n",
        "# Xavier\n",
        "xav_train_losses, xav_val_losses, xav_train_acc, xav_val_acc = train(xav_model, xav_loss_func, xav_optimizer, train_loader, val_loader, num_epochs)"
      ],
      "execution_count": 57,
      "outputs": [
        {
          "output_type": "stream",
          "text": [
            ""
          ],
          "name": "stderr"
        }
      ]
    },
    {
      "cell_type": "code",
      "metadata": {
        "id": "tOASJ_XSfDKr",
        "colab_type": "code",
        "colab": {
          "base_uri": "https://localhost:8080/",
          "height": 573
        },
        "outputId": "bae7e0ec-947e-4b9d-c02d-ef99bd8c4522"
      },
      "source": [
        "show_loss_graph('Xavier', xav_train_losses, xav_val_losses)\n",
        "show_accuracy_graph('Xavier', xav_train_acc, xav_val_acc)"
      ],
      "execution_count": 83,
      "outputs": [
        {
          "output_type": "display_data",
          "data": {
            "image/png": "[encoded data removed]",
            "text/plain": [
              "<Figure size 432x288 with 1 Axes>"
            ]
          },
          "metadata": {
            "tags": [],
            "needs_background": "light"
          }
        },
        {
          "output_type": "display_data",
          "data": {
            "image/png": "[encoded data removed]",
            "text/plain": [
              "<Figure size 432x288 with 1 Axes>"
            ]
          },
          "metadata": {
            "tags": [],
            "needs_background": "light"
          }
        }
      ]
    },
    {
      "cell_type": "code",
      "metadata": {
        "id": "bszHuNIFZUf2",
        "colab_type": "code",
        "colab": {
          "base_uri": "https://localhost:8080/",
          "height": 17
        },
        "outputId": "84c5ea26-b754-4624-c9a2-cc2f44e1e573"
      },
      "source": [
        "# Orthogonal\n",
        "orth_train_losses, orth_val_losses, orth_train_acc, orth_val_acc = train(orth_model, orth_loss_func, orth_optimizer, train_loader, val_loader, num_epochs)"
      ],
      "execution_count": 68,
      "outputs": [
        {
          "output_type": "stream",
          "text": [
            ""
          ],
          "name": "stderr"
        }
      ]
    },
    {
      "cell_type": "code",
      "metadata": {
        "id": "aN0vpJdCfF-w",
        "colab_type": "code",
        "colab": {
          "base_uri": "https://localhost:8080/",
          "height": 573
        },
        "outputId": "dfa16336-5bfd-4add-92de-226d498ccd8e"
      },
      "source": [
        "show_loss_graph('Orthogonal', orth_train_losses, orth_val_losses)\n",
        "show_accuracy_graph('Orthogonal', orth_train_acc, orth_val_acc)"
      ],
      "execution_count": 85,
      "outputs": [
        {
          "output_type": "display_data",
          "data": {
            "image/png": "[encoded data removed]",
            "text/plain": [
              "<Figure size 432x288 with 1 Axes>"
            ]
          },
          "metadata": {
            "tags": [],
            "needs_background": "light"
          }
        },
        {
          "output_type": "display_data",
          "data": {
            "image/png": "[encoded data removed]",
            "text/plain": [
              "<Figure size 432x288 with 1 Axes>"
            ]
          },
          "metadata": {
            "tags": [],
            "needs_background": "light"
          }
        }
      ]
    },
    {
      "cell_type": "code",
      "metadata": {
        "id": "nCkLk6m-ZXQF",
        "colab_type": "code",
        "colab": {
          "base_uri": "https://localhost:8080/",
          "height": 17
        },
        "outputId": "e55b753f-06ae-4b32-ca92-d79b5382100f"
      },
      "source": [
        "# Uniform\n",
        "uni_train_losses, uni_val_losses, uni_train_acc, uni_val_acc = train(uni_model, uni_loss_func, uni_optimizer, train_loader, val_loader, num_epochs)"
      ],
      "execution_count": 72,
      "outputs": [
        {
          "output_type": "stream",
          "text": [
            ""
          ],
          "name": "stderr"
        }
      ]
    },
    {
      "cell_type": "code",
      "metadata": {
        "id": "8UN680Q1fJJa",
        "colab_type": "code",
        "colab": {
          "base_uri": "https://localhost:8080/",
          "height": 573
        },
        "outputId": "6520c6dc-7e00-4cdb-d1ac-0d7e8f858adf"
      },
      "source": [
        "show_loss_graph('Uniform', uni_train_losses, uni_val_losses)\n",
        "show_accuracy_graph('Uniform', uni_train_acc, uni_val_acc)"
      ],
      "execution_count": 84,
      "outputs": [
        {
          "output_type": "display_data",
          "data": {
            "image/png": "[encoded data removed]",
            "text/plain": [
              "<Figure size 432x288 with 1 Axes>"
            ]
          },
          "metadata": {
            "tags": [],
            "needs_background": "light"
          }
        },
        {
          "output_type": "display_data",
          "data": {
            "image/png": "[encoded data removed]",
            "text/plain": [
              "<Figure size 432x288 with 1 Axes>"
            ]
          },
          "metadata": {
            "tags": [],
            "needs_background": "light"
          }
        }
      ]
    },
    {
      "cell_type": "markdown",
      "metadata": {
        "colab_type": "text",
        "id": "ronkEckHiDaU"
      },
      "source": [
        "\n",
        "___\n",
        "\n",
        "### Part 3\n",
        "Print the number of parameters in your network and plot accuracy of your training and validation \n",
        "set over time. You should experiment with some deep networks and see if you can get a network \n",
        "with close to 1,000,000 parameters.\n",
        "\n",
        "**TODO:**\n",
        "\n",
        "**DONE:**\n",
        "* Experiment with Deep Networks\n",
        "* Print out number of parameters in the model \n",
        "* Plot accuracy of training and validation set over time\n"
      ]
    },
    {
      "cell_type": "code",
      "metadata": {
        "colab_type": "code",
        "id": "PaWCKjxvyRSf",
        "pycharm": {
          "is_executing": false
        },
        "colab": {}
      },
      "source": [
        "\n",
        "# Go back up and try a few different networks and initialization strategies\n",
        "# Plot loss if you want\n",
        "# Plot accuracy\n",
        "\n"
      ],
      "execution_count": null,
      "outputs": []
    },
    {
      "cell_type": "code",
      "metadata": {
        "colab_type": "code",
        "id": "oijCR-JnyS6V",
        "pycharm": {
          "is_executing": false
        },
        "colab": {
          "base_uri": "https://localhost:8080/",
          "height": 34
        },
        "outputId": "5ea031a7-c107-4f92-dd2e-855c6187fefb"
      },
      "source": [
        "# Compute and print the number of parameters in the model\n",
        "\n",
        "num_params = sum(p.numel() for p in xav_model.parameters())\n",
        "print(f'# of params: {num_params}')\n"
      ],
      "execution_count": 86,
      "outputs": [
        {
          "output_type": "stream",
          "text": [
            "# of params: 78510\n"
          ],
          "name": "stdout"
        }
      ]
    },
    {
      "cell_type": "markdown",
      "metadata": {
        "colab_type": "text",
        "id": "7hXGRxUQh9gX"
      },
      "source": [
        "___\n",
        "\n",
        "### Part 4\n",
        "Learn about how convolution layers affect the shape of outputs, and answer the following quiz questions. Include these in a new markdown cell in your jupyter notebook.\n",
        "\n",
        "\n",
        "*Using a Kernel size of 3×3 what should the settings of your 2d convolution be that results in the following mappings (first answer given to you)*\n",
        "\n",
        "* (c=3, h=10, w=10) ⇒ (c=10, h=8, w=8) : (out_channels=10, kernel_size=(3, 3), padding=(0, 0))\n",
        "* (c=3, h=10, w=10) ⇒ (c=22, h=10, w=10) : **(out_channels=22, kernel_size=(3,3), padding=(1,1))**\n",
        "* (c=3, h=10, w=10) ⇒ (c=65, h=12, w=12) : **(out_channels=65, kernel_size=(3,3), padding=(2,2))**\n",
        "* (c=3, h=10, w=10) ⇒ (c=7, h=20, w=20) : **(out_channels=7, kernel_size=(3,3), padding=(6,6))**\n",
        "\n",
        "*Using a Kernel size of 5×5:*)\n",
        "\n",
        "* (c=3, h=10, w=10) ⇒ (c=10, h=8, w=8) : (out_channels=10, kernel_size=(5, 5), padding=(1, 1))\n",
        "* (c=3, h=10, w=10) ⇒ (c=100, h=10, w=10) : **(out_channels=100, kernel_size=(5,5), padding=(2,2))**\n",
        "* (c=3, h=10, w=10) ⇒ (c=23, h=12, w=12) : **(out_channels=23, kernel_size=(5,5), padding=(3,3))**\n",
        "* (c=3, h=10, w=10) ⇒ (c=5, h=24, w=24) : **(out_channels=5, kernel_size=(5,5), padding=(9,9))**\n",
        "\n",
        "*Using Kernel size of 5×3:*\n",
        "\n",
        "* (c=3, h=10, w=10) ⇒ (c=10, h=8, w=8) : **(out_channels=10, kernel_size=(5, 3), padding=(1, 0))**\n",
        "* (c=3, h=10, w=10) ⇒ (c=100, h=10, w=10) : **(out_channels=100, kernel_size=(5,3), padding=(2,1))**\n",
        "* (c=3, h=10, w=10) ⇒ (c=23, h=12, w=12) : **(out_channels=23, kernel_size=(5,3), padding=(3,2))**\n",
        "* (c=3, h=10, w=10) ⇒ (c=5, h=24, w=24) : **(out_channels=5, kernel_size=(5,3), padding=(9,8))**\n",
        "\n",
        "*Determine the kernel that requires the smallest padding size to make the following mappings possible:*\n",
        "\n",
        "* (c=3, h=10, w=10) ⇒ (c=10, h=9, w=7) : **(out_channels=10, kernel_size=(4,4), padding=(1,0))**\n",
        "* (c=3, h=10, w=10) ⇒ (c=22, h=10, w=10) : **(out_channels=22, kernel_size=(3,3), padding=(1,1))**\n",
        "\n",
        "**TODO:**\n",
        "\n",
        "**DONE:**\n",
        "\n",
        "* Answer all the questions above \n"
      ]
    },
    {
      "cell_type": "code",
      "metadata": {
        "colab_type": "code",
        "id": "XXfG3wClh8an",
        "pycharm": {
          "is_executing": false
        },
        "colab": {
          "base_uri": "https://localhost:8080/",
          "height": 357
        },
        "outputId": "2b5bfb90-5cb4-4272-b17e-d9ab4ca30bde"
      },
      "source": [
        "input = torch.zeros(1, 3, 10, 10)\n",
        "# Kernel size (3,3)\n",
        "k1_size = (3,3)\n",
        "c = nn.Conv2d(3, 10, kernel_size=k1_size, padding=(0,0))\n",
        "print(c(input).size())\n",
        "\n",
        "c = nn.Conv2d(3, 22, kernel_size=k1_size, padding=(1,1))\n",
        "print(c(input).size())\n",
        "\n",
        "c = nn.Conv2d(3, 65, kernel_size=k1_size, padding=(2,2))\n",
        "print(c(input).size())\n",
        "\n",
        "c = nn.Conv2d(3, 7, kernel_size=k1_size, padding=(6,6))\n",
        "print(c(input).size())\n",
        "print('\\n')\n",
        "\n",
        "# Kernel size (5,5)\n",
        "k2_size = (5,5)\n",
        "c = nn.Conv2d(3, 10, kernel_size=k2_size, padding=(1,1))\n",
        "print(c(input).size())\n",
        "\n",
        "c = nn.Conv2d(3, 100, kernel_size=k2_size, padding=(2,2))\n",
        "print(c(input).size())\n",
        "\n",
        "c = nn.Conv2d(3, 23, kernel_size=k2_size, padding=(3,3))\n",
        "print(c(input).size())\n",
        "\n",
        "c = nn.Conv2d(3, 5, kernel_size=k2_size, padding=(9,9))\n",
        "print(c(input).size())\n",
        "print('\\n')\n",
        "\n",
        "\n",
        "# Kernel size (5,3)\n",
        "k3_size = (5,3)\n",
        "c = nn.Conv2d(3, 10, kernel_size=k3_size, padding=(1,0))\n",
        "print(c(input).size())\n",
        "\n",
        "c = nn.Conv2d(3, 100, kernel_size=k3_size, padding=(2,1))\n",
        "print(c(input).size())\n",
        "\n",
        "c = nn.Conv2d(3, 23, kernel_size=k3_size, padding=(3,2))\n",
        "print(c(input).size())\n",
        "\n",
        "c = nn.Conv2d(3, 5, kernel_size=k3_size, padding=(9,8))\n",
        "print(c(input).size())\n",
        "print('\\n')\n",
        "\n",
        "# Figure out the kernel size needed\n",
        "k4_size = (4,4)\n",
        "c = nn.Conv2d(3, 10, kernel_size=k4_size, padding=(1,0))\n",
        "print(c(input).size())\n",
        "\n",
        "k5_size = (3,3)\n",
        "c = nn.Conv2d(3, 22, kernel_size=k4_size, padding=(1,1))\n",
        "print(c(input).size())"
      ],
      "execution_count": null,
      "outputs": [
        {
          "output_type": "stream",
          "text": [
            "torch.Size([1, 10, 8, 8])\n",
            "torch.Size([1, 22, 10, 10])\n",
            "torch.Size([1, 65, 12, 12])\n",
            "torch.Size([1, 7, 20, 20])\n",
            "\n",
            "\n",
            "torch.Size([1, 10, 8, 8])\n",
            "torch.Size([1, 100, 10, 10])\n",
            "torch.Size([1, 23, 12, 12])\n",
            "torch.Size([1, 5, 24, 24])\n",
            "\n",
            "\n",
            "torch.Size([1, 10, 8, 8])\n",
            "torch.Size([1, 100, 10, 10])\n",
            "torch.Size([1, 23, 12, 12])\n",
            "torch.Size([1, 5, 24, 24])\n",
            "\n",
            "\n",
            "torch.Size([1, 10, 9, 7])\n",
            "torch.Size([1, 22, 9, 9])\n"
          ],
          "name": "stdout"
        }
      ]
    },
    {
      "cell_type": "code",
      "metadata": {
        "id": "xblQw8T60jPw",
        "colab_type": "code",
        "colab": {}
      },
      "source": [
        ""
      ],
      "execution_count": null,
      "outputs": []
    }
  ]
}