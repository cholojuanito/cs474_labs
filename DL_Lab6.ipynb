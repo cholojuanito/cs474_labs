{
  "nbformat": 4,
  "nbformat_minor": 0,
  "metadata": {
    "colab": {
      "name": "Lab6.ipynb",
      "provenance": [],
      "collapsed_sections": []
    },
    "kernelspec": {
      "display_name": "Python 3",
      "language": "python",
      "name": "python3"
    },
    "language_info": {
      "codemirror_mode": {
        "name": "ipython",
        "version": 3
      },
      "file_extension": ".py",
      "mimetype": "text/x-python",
      "name": "python",
      "nbconvert_exporter": "python",
      "pygments_lexer": "ipython3",
      "version": "3.7.1"
    },
    "pycharm": {
      "stem_cell": {
        "cell_type": "raw",
        "metadata": {
          "collapsed": false
        },
        "source": []
      }
    },
    "accelerator": "GPU"
  },
  "cells": [
    {
      "cell_type": "markdown",
      "metadata": {
        "id": "yNBPF2Z6I9T9"
      },
      "source": [
        "<a \n",
        "href=\"https://colab.research.google.com/github/wingated/cs474_labs_f2019/blob/master/DL_Lab6.ipynb\"\n",
        "  target=\"_parent\">\n",
        "  <img\n",
        "    src=\"https://colab.research.google.com/assets/colab-badge.svg\"\n",
        "    alt=\"Open In Colab\"/>\n",
        "</a>"
      ]
    },
    {
      "cell_type": "markdown",
      "metadata": {
        "id": "cksgAH12XRjV"
      },
      "source": [
        "# Lab 6: Sequence-to-sequence models\n",
        "\n",
        "### Description:\n",
        "For this lab, you will code up the [char-rnn model of Karpathy](http://karpathy.github.io/2015/05/21/rnn-effectiveness/). This is a recurrent neural network that is trained probabilistically on sequences of characters, and that can then be used to sample new sequences that are like the original.\n",
        "\n",
        "This lab will help you develop several new skills, as well as understand some best practices needed for building large models. In addition, we'll be able to create networks that generate neat text!\n",
        "\n",
        "### Deliverable:\n",
        "- Fill in the code for the RNN (using PyTorch's built-in GRU).\n",
        "- Fill in the training loop\n",
        "- Fill in the evaluation loop. In this loop, rather than using a validation set, you will sample text from the RNN.\n",
        "- Implement your own GRU cell.\n",
        "- Train your RNN on a new domain of text (Star Wars, political speeches, etc. - have fun!)\n",
        "\n",
        "### Grading Standards:\n",
        "- 20% Implementation the RNN\n",
        "- 20% Implementation training loop\n",
        "- 20% Implementation of evaluation loop\n",
        "- 20% Implementation of your own GRU cell\n",
        "- 20% Training of your RNN on a domain of your choice\n",
        "\n",
        "### Tips:\n",
        "- Read through all the helper functions, run them, and make sure you understand what they are doing\n",
        "- At each stage, ask yourself: What should the dimensions of this tensor be? Should its data type be float or int? (int is called `long` in PyTorch)\n",
        "- Don't apply a softmax inside the RNN if you are using an nn.CrossEntropyLoss (this module already applies a softmax to its input).\n",
        "\n",
        "### Example Output:\n",
        "An example of my final samples are shown below (more detail in the\n",
        "final section of this writeup), after 150 passes through the data.\n",
        "Please generate about 15 samples for each dataset.\n",
        "\n",
        "<code>\n",
        "And ifte thin forgision forward thene over up to a fear not your\n",
        "And freitions, which is great God. Behold these are the loss sub\n",
        "And ache with the Lord hath bloes, which was done to the holy Gr\n",
        "And appeicis arm vinimonahites strong in name, to doth piseling \n",
        "And miniquithers these words, he commanded order not; neither sa\n",
        "And min for many would happine even to the earth, to said unto m\n",
        "And mie first be traditions? Behold, you, because it was a sound\n",
        "And from tike ended the Lamanites had administered, and I say bi\n",
        "</code>\n"
      ]
    },
    {
      "cell_type": "markdown",
      "metadata": {
        "id": "c2i_QpSsWG4c"
      },
      "source": [
        "---\n",
        "\n",
        "## Part 0: Readings, data loading, and high level training\n",
        "\n",
        "---\n",
        "\n",
        "There is a tutorial here that will help build out scaffolding code, and get an understanding of using sequences in pytorch.\n",
        "\n",
        "* Read the following\n",
        "\n",
        "> * [Pytorch sequence-to-sequence tutorial](https://pytorch.org/tutorials/intermediate/seq2seq_translation_tutorial.html) (Take note that you will not be implementing the encoder part of this tutorial.)\n",
        "* [Understanding LSTM Networks](http://colah.github.io/posts/2015-08-Understanding-LSTMs/)\n",
        "\n",
        "\n",
        "\n",
        "\n"
      ]
    },
    {
      "cell_type": "code",
      "metadata": {
        "id": "ztVzlgs-3qNQ"
      },
      "source": [
        "! wget -O ./text_files.tar.gz 'https://piazza.com/redirect/s3?bucket=uploads&prefix=attach%2Fjlifkda6h0x5bk%2Fhzosotq4zil49m%2Fjn13x09arfeb%2Ftext_files.tar.gz' \n",
        "! tar -xzf text_files.tar.gz\n",
        "! pip install unidecode\n",
        "#! pip install torch"
      ],
      "execution_count": null,
      "outputs": []
    },
    {
      "cell_type": "code",
      "metadata": {
        "id": "8sCcq74r__bd"
      },
      "source": [
        "import unidecode\n",
        "import string\n",
        "import random\n",
        "import re\n",
        "import torch\n",
        "import torch.nn as nn\n",
        "import torch.nn.functional as F\n",
        "import pdb"
      ],
      "execution_count": 2,
      "outputs": []
    },
    {
      "cell_type": "code",
      "metadata": {
        "id": "l7bdZWxvJrsx",
        "outputId": "0b4a2923-c9e9-4fd8-9015-c6918d3affb2",
        "colab": {
          "base_uri": "https://localhost:8080/",
          "height": 35
        }
      },
      "source": [
        "all_characters = \"0123456789abcdefghijklmnopqrstuvwxyzABCDEFGHIJKLMNOPQRSTUVWXYZñáéíóúüÁÉÍÓÚÜÑ¡!\\\"#$%&'()*+,-./:;«<=>»¿?@[\\]^_`{|}~ \\t\\n\\r\\x0b\\x0c\"\n",
        "n_characters = len(all_characters)\n",
        "\n",
        "file_name = './text_files/don-quijote-espanol.txt'\n",
        "\n",
        "file = unidecode.unidecode(open(file_name, 'r', encoding='utf8').read())\n",
        "file_len = len(file)\n",
        "print('file_len =', file_len)"
      ],
      "execution_count": 3,
      "outputs": [
        {
          "output_type": "stream",
          "text": [
            "file_len = 2098300\n"
          ],
          "name": "stdout"
        }
      ]
    },
    {
      "cell_type": "code",
      "metadata": {
        "id": "aBgvV_vd02DC",
        "outputId": "65162feb-6919-48a4-cb29-31e437e30e78",
        "colab": {
          "base_uri": "https://localhost:8080/",
          "height": 36
        }
      },
      "source": [
        "all_characters"
      ],
      "execution_count": 4,
      "outputs": [
        {
          "output_type": "execute_result",
          "data": {
            "application/vnd.google.colaboratory.intrinsic+json": {
              "type": "string"
            },
            "text/plain": [
              "'0123456789abcdefghijklmnopqrstuvwxyzABCDEFGHIJKLMNOPQRSTUVWXYZñáéíóúüÁÉÍÓÚÜÑ¡!\"#$%&\\'()*+,-./:;«<=>»¿?@[\\\\]^_`{|}~ \\t\\n\\r\\x0b\\x0c'"
            ]
          },
          "metadata": {
            "tags": []
          },
          "execution_count": 4
        }
      ]
    },
    {
      "cell_type": "code",
      "metadata": {
        "id": "TxBeKeNjJ0NQ"
      },
      "source": [
        "chunk_len = 200\n",
        " \n",
        "def random_chunk():\n",
        "  start_index = random.randint(0, file_len - chunk_len)\n",
        "  end_index = start_index + chunk_len + 1\n",
        "  return file[start_index:end_index]\n"
      ],
      "execution_count": 5,
      "outputs": []
    },
    {
      "cell_type": "code",
      "metadata": {
        "id": "On0_WitWJ99e"
      },
      "source": [
        "# Turn string into list of longs\n",
        "def char_tensor(string):\n",
        "  tensor = torch.zeros(len(string)).long()\n",
        "  for c in range(len(string)):\n",
        "      tensor[c] = all_characters.index(string[c])\n",
        "  return tensor\n",
        "\n",
        "print(char_tensor('abcDEFñáíó¡»'))"
      ],
      "execution_count": null,
      "outputs": []
    },
    {
      "cell_type": "markdown",
      "metadata": {
        "id": "CYJPTLcaYmfI"
      },
      "source": [
        "---\n",
        "\n",
        "## Part 4: Creating your own GRU cell \n",
        "\n",
        "**(Come back to this later - its defined here so that the GRU will be defined before it is used)**\n",
        "\n",
        "---\n",
        "\n",
        "The cell that you used in Part 1 was a pre-defined Pytorch layer. Now, write your own GRU class using the same parameters as the built-in Pytorch class does.\n",
        "\n",
        "Please try not to look at the GRU cell definition. The answer is right there in the code, and in theory, you could just cut-and-paste it. This bit is on your honor!\n",
        "\n",
        "**TODO:**\n",
        "\n",
        "**DONE:**\n",
        "\n",
        "* Create a custom GRU cell\n"
      ]
    },
    {
      "cell_type": "code",
      "metadata": {
        "id": "aavAv50ZKQ-F"
      },
      "source": [
        "class GRUCell(nn.Module):\n",
        "    # Output and hidden size are synonymous\n",
        "    def __init__(self, input_size, hidden_size):\n",
        "        super(GRUCell, self).__init__()\n",
        "        self.input_size = input_size\n",
        "        self.hidden_size = hidden_size\n",
        "        self.sigmoid = nn.Sigmoid()\n",
        "        self.tanh = nn.Tanh()\n",
        "\n",
        "        self.W_r = nn.Linear(input_size + hidden_size, hidden_size)\n",
        "        self.W_z = nn.Linear(input_size + hidden_size, hidden_size)\n",
        "        self.W_n = nn.Linear(input_size + hidden_size, hidden_size)\n",
        "\n",
        "    # input comes from previous layer, prev_hidden comes from previous GRU in time\n",
        "    def forward(self, input, prev_hidden):\n",
        "        # Each layer does the following:\n",
        "        # r_t = sigmoid(W_ir*x_t + b_ir . W_hr*h_(t-1) + b_hr)\n",
        "        # z_t = sigmoid(W_iz*x_t + b_iz . W_hz*h_(t-1) + b_hz)\n",
        "        # n_t = tanh(W_in*x_t + b_in . r_t**(W_hn*h_(t-1) + b_hn))\n",
        "        # h_(t) = (1 - z_t)**n_t + z_t**h_(t-1)\n",
        "        # Where ** is hadamard product (not matrix multiplication, but elementwise multiplication)\n",
        "\n",
        "        update_input = torch.cat((input, prev_hidden), dim=2)\n",
        "        update_gate = self.sigmoid(self.W_z(update_input))\n",
        "\n",
        "        reset_input = update_input.clone()\n",
        "        reset_gate = self.sigmoid(self.W_r(reset_input))\n",
        "\n",
        "        curr_mem_input = torch.cat(((reset_gate * prev_hidden), input), dim=2)\n",
        "        curr_memory = self.tanh(self.W_n(curr_mem_input))\n",
        "\n",
        "        final_memory = ((1 - update_gate) * curr_memory) + (update_gate * prev_hidden)\n",
        "\n",
        "        # Produce two verisons of this because it will be used in two places\n",
        "        return final_memory, final_memory\n",
        "    \n",
        "\n",
        "\n",
        "class MyGRU(nn.Module):\n",
        "    def __init__(self, input_size, hidden_size, num_layers):\n",
        "        super(MyGRU, self).__init__()\n",
        "        self.input_size = input_size\n",
        "        self.hidden_size = hidden_size\n",
        "        self.num_layers = num_layers\n",
        "        self.gru_cells = nn.ModuleList()\n",
        "\n",
        "        for i in range(self.num_layers):\n",
        "            # First gru cell takes input_size the rest are hidden_size\n",
        "            gru_input_size = self.input_size if i == 0 else hidden_size\n",
        "            self.gru_cells.append(GRUCell(gru_input_size, hidden_size))\n",
        "  \n",
        "    def forward(self, inputs, hidden):\n",
        "        # Use first gru cell to initialize hidden_layers\n",
        "        outputs, hidden_layers = self.gru_cells[0](inputs, hidden[0:1])\n",
        "        for i, cell in enumerate(self.gru_cells):\n",
        "            outputs, hidden_layer = cell(outputs, hidden[i:i+1])\n",
        "            hidden_layers = torch.cat((hidden_layers, hidden_layer), dim=0)\n",
        "\n",
        "        return outputs, hidden_layers\n",
        "  \n"
      ],
      "execution_count": 7,
      "outputs": []
    },
    {
      "cell_type": "markdown",
      "metadata": {
        "id": "qtXdX-B_WiAY"
      },
      "source": [
        "---\n",
        "\n",
        "##  Part 1: Building a sequence to sequence model\n",
        "\n",
        "---\n",
        "\n",
        "Great! We have the data in a useable form. We can switch out which text file we are reading from, and trying to simulate.\n",
        "\n",
        "We now want to build out an RNN model, in this section, we will use all built in Pytorch pieces when building our RNN class.\n",
        "\n",
        "\n",
        "**TODO:**\n",
        "\n",
        "**DONE:**\n",
        "\n",
        "* Create an RNN class that extends from nn.Module.\n",
        "\n"
      ]
    },
    {
      "cell_type": "code",
      "metadata": {
        "id": "d6tNdEnzWj5F"
      },
      "source": [
        "class MyRNN(nn.Module):\n",
        "    def __init__(self, input_size, hidden_size, output_size, n_layers=1):\n",
        "        super(MyRNN, self).__init__()\n",
        "        self.input_size = input_size\n",
        "        self.hidden_size = hidden_size\n",
        "        self.output_size = output_size\n",
        "        self.num_layers = n_layers\n",
        "\n",
        "        self.embedding = nn.Embedding(self.input_size, self.hidden_size)\n",
        "        self.gru = MyGRU(self.hidden_size, self.hidden_size, num_layers=self.num_layers)\n",
        "        self.to_out_size = nn.Linear(self.hidden_size, self.output_size)\n",
        "\n",
        "    def forward(self, input_seq, hidden):\n",
        "        output = torch.Tensor([])\n",
        "        #for i in range(len(input_seq)):\n",
        "        output = self.embedding(input_seq).view(1, 1, -1)\n",
        "        output, hidden = self.gru(output, hidden)\n",
        "        output = F.relu(self.to_out_size(output))\n",
        "        return output, hidden\n",
        "\n",
        "    def init_hidden(self):\n",
        "        return torch.zeros(self.num_layers, 1, self.hidden_size)"
      ],
      "execution_count": 8,
      "outputs": []
    },
    {
      "cell_type": "code",
      "metadata": {
        "id": "hrhXghEPKD-5"
      },
      "source": [
        "def random_training_set():    \n",
        "    chunk = random_chunk()\n",
        "    inp = char_tensor(chunk[:-1])\n",
        "    target = char_tensor(chunk[1:])\n",
        "    return inp, target"
      ],
      "execution_count": 9,
      "outputs": []
    },
    {
      "cell_type": "markdown",
      "metadata": {
        "id": "ZpiGObbBX0Mr"
      },
      "source": [
        "---\n",
        "\n",
        "## Part 2: Sample text and Training information\n",
        "\n",
        "---\n",
        "\n",
        "We now want to be able to train our network, and sample text after training.\n",
        "\n",
        "This function outlines how training a sequence style network goes. \n",
        "\n",
        "**TODO:**\n",
        "\n",
        "**DONE:**\n",
        "* Fill in the pieces.\n",
        "\n",
        "\n"
      ]
    },
    {
      "cell_type": "code",
      "metadata": {
        "id": "2ALC3Pf8Kbsi"
      },
      "source": [
        "def train(inp, target, model, loss_func, optimizer):\n",
        "    ## initialize hidden layers, set up gradient and loss \n",
        "    optimizer.zero_grad()\n",
        "    hidden = decoder.init_hidden()\n",
        "    loss = 0\n",
        "\n",
        "    for i in range(len(inp)):\n",
        "        out_distribution, hidden = model(inp[i], hidden)\n",
        "        out_distribution = out_distribution.squeeze(0)\n",
        "        loss += loss_func(out_distribution, target[i].view(-1))\n",
        "\n",
        "    loss.backward()\n",
        "    optimizer.step()\n",
        "\n",
        "    return loss.item() / len(inp)\n"
      ],
      "execution_count": 10,
      "outputs": []
    },
    {
      "cell_type": "markdown",
      "metadata": {
        "id": "EN06NUu3YRlz"
      },
      "source": [
        "---\n",
        "\n",
        "## Part 3: Sample text and Training information\n",
        "\n",
        "---\n",
        "\n",
        "You can at this time, if you choose, also write out your train loop boilerplate that samples random sequences and trains your RNN. This will be helpful to have working before writing your own GRU class.\n",
        "\n",
        "If you are finished training, or during training, and you want to sample from the network you may consider using the following function. If your RNN model is instantiated as `decoder`then this will probabilistically sample a sequence of length `predict_len`\n",
        "\n",
        "**TODO:**\n",
        "* Fill out the evaluate function to generate text frome a primed string\n",
        "\n",
        "**DONE:**\n",
        "\n"
      ]
    },
    {
      "cell_type": "code",
      "metadata": {
        "id": "B-bp-OZ1KjNh"
      },
      "source": [
        "def sample_outputs(output, temperature):\n",
        "    \"\"\"Takes in a vector of unnormalized probability weights and samples a character from the distribution\"\"\"\n",
        "    return torch.multinomial(torch.exp(output / temperature), 1)\n",
        "\n",
        "def evaluate(prime_str='A', predict_len=100, temperature=0.8):\n",
        "    ## initialize hidden state, initialize other useful variables\n",
        "    ## take output from decoder()\n",
        "    with torch.no_grad():\n",
        "        prime_input = char_tensor(prime_str)\n",
        "        hidden = decoder.init_hidden()\n",
        "        for p in range(len(prime_str) - 1):\n",
        "            _, hidden = decoder(prime_input[p], hidden)\n",
        "\n",
        "        inp = prime_input[-1]\n",
        "        for i in range(predict_len):\n",
        "            decoded_out, hidden = decoder(inp, hidden)\n",
        "            char_picked = all_characters[sample_outputs(decoded_out.view(-1), temperature)]\n",
        "            inp = char_tensor(char_picked)\n",
        "            prime_str += char_picked\n",
        "\n",
        "    return prime_str\n",
        "  "
      ],
      "execution_count": 11,
      "outputs": []
    },
    {
      "cell_type": "markdown",
      "metadata": {
        "id": "Du4AGA8PcFEW"
      },
      "source": [
        "---\n",
        "\n",
        "## Part 4: (Create a GRU cell, requirements above)\n",
        "\n",
        "---\n"
      ]
    },
    {
      "cell_type": "markdown",
      "metadata": {
        "id": "GFS2bpHSZEU6"
      },
      "source": [
        "\n",
        "---\n",
        "\n",
        "## Part 5: Run it and generate some text!\n",
        "\n",
        "---\n",
        "\n",
        "Assuming everything has gone well, you should be able to run the main function in the scaffold code, using either your custom GRU cell or the built in layer, and see output something like this. I trained on the “lotr.txt” dataset, using chunk_length=200, hidden_size=100 for 2000 epochs gave.\n",
        "\n",
        "**TODO:** \n",
        "\n",
        "**DONE:**\n",
        "\n",
        "* Create some cool output\n",
        "\n"
      ]
    },
    {
      "cell_type": "code",
      "metadata": {
        "id": "-nXFeCmdKodw"
      },
      "source": [
        "import time\n",
        "n_epochs = 2000\n",
        "print_every = 100\n",
        "plot_every = 100\n",
        "hidden_size = 200\n",
        "n_layers = 3\n",
        "lr = 0.001\n",
        "device = \"cuda\"\n",
        " \n",
        "decoder = MyRNN(n_characters, hidden_size, n_characters, n_layers)\n",
        "decoder_optimizer = torch.optim.Adam(decoder.parameters(), lr=lr)\n",
        "criterion = nn.CrossEntropyLoss()\n",
        " \n",
        "start = time.time()\n",
        "all_losses = []\n",
        "loss_avg = 0"
      ],
      "execution_count": 12,
      "outputs": []
    },
    {
      "cell_type": "code",
      "metadata": {
        "id": "xKfozqw-6eqb",
        "outputId": "3f0be2f1-52b4-4974-c366-c58433f15c63",
        "colab": {
          "base_uri": "https://localhost:8080/",
          "height": 1000
        }
      },
      "source": [
        "for epoch in range(1, n_epochs + 1):\n",
        "  loss_ = train(*random_training_set(), decoder, criterion, decoder_optimizer)\n",
        "\n",
        "  loss_avg += loss_\n",
        "\n",
        "  if epoch % print_every == 0:\n",
        "      print('[%s (%d %d%%) %.4f]' % (time.time() - start, epoch, epoch / n_epochs * 100, loss_))\n",
        "      print(evaluate('qu', 100), '\\n')\n",
        "\n",
        "  if epoch % plot_every == 0:\n",
        "      all_losses.append(loss_avg / plot_every)\n",
        "      loss_avg = 0"
      ],
      "execution_count": 13,
      "outputs": [
        {
          "output_type": "stream",
          "text": [
            "[103.78167486190796 (100 5%) 3.4747]\n",
            "quEtae    \n",
            "at,u \n",
            "%d\n",
            "  undna8rú¡d eeedl e lescr de Sesn P  an eetda ,acd t D daar a\\ saupe8atsycreí\n",
            "nre \n",
            "\n",
            "[207.23796129226685 (200 10%) 3.2122]\n",
            "qussnsaarl a, e oeVassdansu or oaree ur  us na  uoto ts\n",
            "ta noectcaselle osnt oatcaa ooaaanñosons )aors \n",
            "\n",
            "[311.2625608444214 (300 15%) 3.0495]\n",
            "quqes e cuu on  encoral#e Lorda da\n",
            "GusSas a  er en an~*ce el $: a oca nunloste a  on en e uanaton a oo \n",
            "\n",
            "[416.0506956577301 (400 20%) 2.4683]\n",
            "qua daesdade e li viea val o, a do on agidudon ;%|A>s. -7ada ma da as asode que (sa, \u000buntiar l los til \n",
            "\n",
            "[520.4615526199341 (500 25%) 2.3255]\n",
            "uego de can es galte le mo sino  \n",
            "\n",
            "[624.2953042984009 (600 30%) 2.1251]\n",
            "que, menes aquento en carco de de un cueltra cderque mo dica, venarar de cogo \n",
            "secrerle cescirciordito \n",
            "\n",
            "[728.1213171482086 (700 35%) 2.0435]\n",
            "que en na un 4u% clamado los cuacio se la viee de uscilcioso el ton tos ar que de de tia de en me 8l s \n",
            "\n",
            "[831.4449982643127 (800 40%) 2.0168]\n",
            "que te cierlo se los neces, \u000buije de la suncia a\n",
            "la caule vieros recaldia cora mi GuenDa,\n",
            "se le mas ca \n",
            "\n",
            "[935.3102531433105 (900 45%) 1.9646]\n",
            "quero moliente,\n",
            "Úon en Isbresiento lumera de el de man recontendos\n",
            "de sus cento\n",
            "a^lo, seno desde des]o \n",
            "\n",
            "[1040.3806729316711 (1000 50%) 1.8378]\n",
            "que se paraze de su irmimando lo don de su jumto de ca\fsamino de noceda 9 2acada seno la pusento que c \n",
            "\n",
            "[1143.7213852405548 (1100 55%) 1.7483]\n",
            "que se contan las camo a los lejas, que es entendemirea, que el cuecto mi de\n",
            "ser tampar cuen de\n",
            "los or \n",
            "\n",
            "[1243.5094599723816 (1200 60%) 1.9104]\n",
            "que a si le de se mas cardares se daraxperan de la en toda maner a otro el se 8nigo el mas pada ha )mo \n",
            "\n",
            "[1339.9787242412567 (1300 65%) 1.6248]\n",
            "que respondio camo ripierso que no\n",
            "se lo es es, a decir con que tiento a vala esto su amrimo tu de mon \n",
            "\n",
            "[1431.19890999794 (1400 70%) 1.6570]\n",
            "quedo de ciente de arginar si criado, y mas caso la mercimiendos norsi de contadore, que en ul pena qu \n",
            "\n",
            "[1519.3254134654999 (1500 75%) 1.7993]\n",
            "que pala'cias\n",
            "no |ejan vejo antos estas decer en las entrata mas Úedersuaza, y que en me don Quijote-  \n",
            "\n",
            "[1611.7181794643402 (1600 80%) 1.6700]\n",
            "que los rompos Sancho, cordoca deste no tengo a vuestro al mucho a los hasta a moda estas por lo volig \n",
            "\n",
            "[1704.1171338558197 (1700 85%) 1.7793]\n",
            "que me don Quijote de aHacho, que ponder salo con castivo de su hecho de tun anagua de hacea todas que \n",
            "\n",
            "[1792.5934255123138 (1800 90%) 1.7440]\n",
            "que no hay cristidor a parece, toda a ya la amigo don Quijote entra merced, si mundas es como salo siQ \n",
            "\n",
            "[1879.8797795772552 (1900 95%) 1.7286]\n",
            "quien muchas tantas que se\n",
            "dando a sus entrada la Buen de valer deseo en la inapito, os roles a su hac \n",
            "\n",
            "[1968.0169456005096 (2000 100%) 1.7746]\n",
            "que las\n",
            "mano de la mimo de laciguo y vuestra merced de muscidod, senor de la verrado\n",
            "y aquellos manos  \n",
            "\n"
          ],
          "name": "stdout"
        }
      ]
    },
    {
      "cell_type": "code",
      "metadata": {
        "id": "8nbM8qpnOOrX",
        "outputId": "223088e5-7a10-4105-ed4c-aabb898d6157",
        "colab": {
          "base_uri": "https://localhost:8080/",
          "height": 279
        }
      },
      "source": [
        "import matplotlib.pyplot as plt\n",
        "def show_loss_graph(title, losses):\n",
        "    plt.plot(losses, label=\"Train Loss\")\n",
        "    plt.title(title)\n",
        "    plt.ylabel(\"Avg. Loss per epoch\")\n",
        "    plt.xlabel(\"Epochs\")\n",
        "    plt.ylim([0, max(losses)])\n",
        "    plt.xlim([0, len(losses)])\n",
        "    plt.legend()\n",
        "    plt.show()\n",
        "\n",
        "show_loss_graph(\"\", all_losses)"
      ],
      "execution_count": 14,
      "outputs": [
        {
          "output_type": "display_data",
          "data": {
            "image/png": "[encoded data removed]",
            "text/plain": [
              "<Figure size 432x288 with 1 Axes>"
            ]
          },
          "metadata": {
            "tags": [],
            "needs_background": "light"
          }
        }
      ]
    },
    {
      "cell_type": "code",
      "metadata": {
        "id": "Ee0so6aKJ5L8",
        "outputId": "751b0522-0336-4b93-9f47-9581050a3eeb",
        "colab": {
          "base_uri": "https://localhost:8080/",
          "height": 1000
        }
      },
      "source": [
        "for i in range(15):\n",
        "  start_strings = [\" \", \" Don\", \" él\", \"el\", \" yo \", \" qu\", \" r\", \" la\", \" s\", \" »\", \" >>\", \" ¿\"]\n",
        "  start = random.randint(0,len(start_strings)-1)\n",
        "  print(start_strings[start])\n",
        "#   all_characters.index(string[c])\n",
        "  print(evaluate(start_strings[start], 300), '\\n')"
      ],
      "execution_count": 16,
      "outputs": [
        {
          "output_type": "stream",
          "text": [
            " s\n",
            " se volente el estigar de las que nos encomosiguios palas por las engran de secuderos, que entre la han remegino de ese esto que los mujeros, suemo\n",
            "que hacermo el grande los mundo de don Quijote y en sus ha a vuestra cuando en la cara muchado digo por escardedodas, lo que los megudose dinerandose esta \n",
            "\n",
            "el\n",
            "ella, si estas veces o amentisos de tantos, que me ha#a yo ve cuento a sus mermerampos que no es maneros que evente ingimiento que me la venta, que como por estas pramos en la cuando en esto de casa delante de mis\n",
            "encandases sotrandes y destados las manos en vuastras de camas, y que no Huere tan megur \n",
            "\n",
            " \n",
            " al manera de\n",
            "queria el moro, que no esto que rupies, yo se los hacer que la verdad, sino que, divelew !:lguro de\n",
            "inmestros meder de la encantara, aminados de imagino que el ques, como se quien >un esto, sino quien la cual respondio todo encorrinado, que no que tudo que no esta son de de menos que no \n",
            "\n",
            " ¿\n",
            " ¿amaron que no esto acasar de magre, desperarde de la ella pago mas verced, senoria de la riico a era de esta ?dijo destimiendose al campo doncellaga de un que no los cielan de 0uien vuestra merme tan lo querio de suencio al que se order que dijo! Prezo, el colverode hacer cuenta don Quijote y\n",
            "asi le \n",
            "\n",
            " qu\n",
            " que, el pues, que trate con la suentie de los ojos sando el nueco mi sino cami el cuandeza, se hara de lo cual calando el rostramana de dijo el todo vuestra ganarone de menos,\n",
            "dijo el cuirio que saya de esta de llevados que el eran los otros noches, si muchon moros, y me dices que me la prircio tanto  \n",
            "\n",
            " él\n",
            " élancandose les {arriendo del orrer cuando los quien\n",
            "traen contentos los suidos de las versecas, aunque nrestres\n",
            "composigues de yo que esdo lo verdad la suestra muestra mujer yo la cuento contrata, sino de que hemos, porque hasta madre en la verdad te uno vuestrigo y padre vovos no me pastaros de aque \n",
            "\n",
            " él\n",
            " élcor don Quijote, tengo anmando sus rejes armas, üana\n",
            "yo pote\n",
            "que ha de la ver \"que no ¡saras y puedes, y por la suelas la visto en las orgatos.\n",
            "\n",
            "Con\n",
            "gaso de mazo, no quiere de manogre vuestra puerdad en esta como yo el anremado en comento y asi estuma mejor que todo aÜun estraco en la espada\n",
            "en que  \n",
            "\n",
            " s\n",
            " se condante de lagricion, y asi,, nunca y presander en tan era un licencion que se tuviere yo punto y alguno menostres que no estar tan encanvio cuanto la venturado, que de sela en esta! -respondio don Quijote-, que me hom3 se Úaninasño en la caultavadore por la oque\n",
            "legrio desellar de valance de cui \n",
            "\n",
            " ¿\n",
            " ¿ado que la tiene no ca'a le vostosa- de la vido muchamos y que tanto que trango de los arrados. Y algun deseo de espara? Y, nomo no de lo que esto se vuestra vervedad se la suerte andantes y respondio don Quijote, y\n",
            "aunque estaDas anos se^ contraron que la puede a encamila de la que el que le\n",
            "moneci \n",
            "\n",
            " él\n",
            " élavo parecer la _odos los algunas verguendose en la cuildra y la mio, que dan sermegimiento de su hacer, las Ono orrrio de lo que si entando las merced en\n",
            "estreman merez algun entrario y en como a quien vos las pareces por\n",
            "determentes, alguno he de vuestra merced, se degira de casa persana del guia p \n",
            "\n",
            " qu\n",
            " que le\n",
            "ósgananzo de posiguion y consimento que le escudo en encanto que es uno vaco amorito que puedes os +cistrares de estaPora que es\n",
            "ellos y tantos, porque en mucha las orras, las manos de los alegriguos, continarmelos manos manos se estos de los calsados en mas engrantes a plantadas de los 1imosos \n",
            "\n",
            " ¿\n",
            " ¿enonmelidado que los cuando alvizo casti los discretos, y de las mersenticos, que andantes, se degendimente angentelos agrotos meguerdades de han que quien yo el se traere y todo la pener ~zcho.\n",
            "\n",
            "\n",
            "\n",
            "\n",
            "\n",
            "\n",
            "\n",
            "CahaDa sesora de vuesto\n",
            "de mal que no\n",
            "como las que la íuicando a vuestra merced ca6a entre tan hal \n",
            "\n",
            " r\n",
            " revido y dierino que me vacaó en camino que esta encemiciones que no de venian, que ellos cuando no\n",
            "lo que sin gana, a las\n",
            "casado una\n",
            "merced por la, sino que no\n",
            "me sin que tengo caÜuelisido, a malos que ha\n",
            "de gran mucha Óunca, a\n",
            "donde esto como\n",
            "en la esperante con suvicen, sino por rico a +rraidar de \n",
            "\n",
            " Don\n",
            " Donge que yo se le mimente que\n",
            "deesamando en mal muestraXF\n",
            "\n",
            "Canto alguno, y que no os venian, de tantos 3nterÜuca aronde las anostros y companias'andose del senores los mios, como\n",
            "me parece redando esta\n",
            "todas que en el otros con esta cristido. Anstrete muchar\n",
            "ellos que no ni (dijo, que vuestra mespada  \n",
            "\n",
            " r\n",
            " respondio que me degante por el janda le dicho la principio de los -real somoto de )que en sus vermente el verviro, romo yo la que, o dendia recato de entre de mono\n",
            "de merced se\n",
            "a camino que le tiento no han de mujer de respondio el ciele en las las palapas de la cual senores de los que lo querio a l \n",
            "\n"
          ],
          "name": "stdout"
        }
      ]
    },
    {
      "cell_type": "markdown",
      "metadata": {
        "id": "YJhgDc2IauPE"
      },
      "source": [
        "---\n",
        "\n",
        "## Part 6: Generate output on a different dataset\n",
        "\n",
        "---\n",
        "\n",
        "**TODO:**\n",
        "\n",
        "**DONE:**\n",
        "\n",
        "* Choose a textual dataset. Here are some [text datasets](https://www.kaggle.com/datasets?tags=14104-text+data%2C13205-text+mining) from Kaggle \n",
        "\n",
        "* Generate some decent looking results and evaluate your model's performance (say what it did well / not so well)\n",
        "\n",
        "\n",
        "Answer:\n",
        "\n",
        "The model was able to quickly put together that the sequence \"qu\" usually is followed by an \"e\" or \"é\". But the model struggles with figuring out how to use characters with tildes on them. I think my model just wasn't big enough for how many possible characters there were, I had to add a lot of new characters to the list of available characters.\n"
      ]
    }
  ]
}